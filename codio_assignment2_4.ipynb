{
  "cells": [
    {
      "cell_type": "markdown",
      "metadata": {
        "id": "view-in-github",
        "colab_type": "text"
      },
      "source": [
        "<a href=\"https://colab.research.google.com/github/jaidatta71/Chatbot/blob/main/codio_assignment2_4.ipynb\" target=\"_parent\"><img src=\"https://colab.research.google.com/assets/colab-badge.svg\" alt=\"Open In Colab\"/></a>"
      ]
    },
    {
      "cell_type": "markdown",
      "metadata": {
        "nbgrader": {
          "grade": false,
          "grade_id": "cell-06613f3a45089772",
          "locked": true,
          "schema_version": 1,
          "solution": false
        },
        "id": "c2zzrCUDNjYB"
      },
      "source": [
        "### Required Codio Assignment 2.4: Histograms and Conditional Probability Distributions\n",
        "\n",
        "**Expected Time: 45 Minutes**\n",
        "\n",
        "**Total Points: 20**\n",
        "\n",
        "In this assignment, you will use `pandas` and `seaborn` to plot distributions of data conditioned on categorical features.  \n",
        "\n",
        "#### Index:\n",
        "\n",
        "- [Question 1](#Problem-1:-Conditional-Probabilities-with-`pandas`)\n",
        "- [Question 2](#Problem-2:-$P(age->-40-|-class-=-~--'Second')$)\n",
        "- [Question 3](#Problem-3:-Visualizing-the-Conditional-Probability)\n",
        "- [Question 4](#Problem-4:-Probability)\n",
        "- [Question 5](#Problem-5:-Which-is-more-likely?)\n"
      ]
    },
    {
      "cell_type": "code",
      "execution_count": 1,
      "metadata": {
        "nbgrader": {
          "grade": false,
          "grade_id": "cell-513465b08c79e5fe",
          "locked": true,
          "schema_version": 1,
          "solution": false
        },
        "id": "tH9VYnowNjYE"
      },
      "outputs": [],
      "source": [
        "import pandas as pd\n",
        "import seaborn as sns\n",
        "import numpy as np"
      ]
    },
    {
      "cell_type": "markdown",
      "metadata": {
        "nbgrader": {
          "grade": false,
          "grade_id": "cell-d2027291102d10e9",
          "locked": true,
          "schema_version": 1,
          "solution": false
        },
        "id": "VpYV0GKSNjYF"
      },
      "source": [
        "### The Dataset\n",
        "\n",
        "For this assignment, the dataset from `seaborn` relating to the Titanic will be used.  This dataset contains specific information for each passenger on the Titanic cruise ship.  Below, the data is loaded, the first five rows are displayed, and information on features is displayed.  \n",
        "\n"
      ]
    },
    {
      "cell_type": "code",
      "execution_count": 2,
      "metadata": {
        "nbgrader": {
          "grade": false,
          "grade_id": "cell-6d7905e41a78705f",
          "locked": true,
          "schema_version": 1,
          "solution": false
        },
        "id": "maJaivLSNjYF"
      },
      "outputs": [],
      "source": [
        "titanic = sns.load_dataset('titanic')"
      ]
    },
    {
      "cell_type": "code",
      "execution_count": null,
      "metadata": {
        "nbgrader": {
          "grade": false,
          "grade_id": "cell-a32f42b473098325",
          "locked": true,
          "schema_version": 1,
          "solution": false
        },
        "id": "Lw25OZgDNjYF",
        "outputId": "d26c2168-f3bd-4260-af91-0653c703997d"
      },
      "outputs": [
        {
          "data": {
            "text/html": [
              "<div>\n",
              "<style scoped>\n",
              "    .dataframe tbody tr th:only-of-type {\n",
              "        vertical-align: middle;\n",
              "    }\n",
              "\n",
              "    .dataframe tbody tr th {\n",
              "        vertical-align: top;\n",
              "    }\n",
              "\n",
              "    .dataframe thead th {\n",
              "        text-align: right;\n",
              "    }\n",
              "</style>\n",
              "<table border=\"1\" class=\"dataframe\">\n",
              "  <thead>\n",
              "    <tr style=\"text-align: right;\">\n",
              "      <th></th>\n",
              "      <th>survived</th>\n",
              "      <th>pclass</th>\n",
              "      <th>sex</th>\n",
              "      <th>age</th>\n",
              "      <th>sibsp</th>\n",
              "      <th>parch</th>\n",
              "      <th>fare</th>\n",
              "      <th>embarked</th>\n",
              "      <th>class</th>\n",
              "      <th>who</th>\n",
              "      <th>adult_male</th>\n",
              "      <th>deck</th>\n",
              "      <th>embark_town</th>\n",
              "      <th>alive</th>\n",
              "      <th>alone</th>\n",
              "    </tr>\n",
              "  </thead>\n",
              "  <tbody>\n",
              "    <tr>\n",
              "      <th>0</th>\n",
              "      <td>0</td>\n",
              "      <td>3</td>\n",
              "      <td>male</td>\n",
              "      <td>22.0</td>\n",
              "      <td>1</td>\n",
              "      <td>0</td>\n",
              "      <td>7.2500</td>\n",
              "      <td>S</td>\n",
              "      <td>Third</td>\n",
              "      <td>man</td>\n",
              "      <td>True</td>\n",
              "      <td>NaN</td>\n",
              "      <td>Southampton</td>\n",
              "      <td>no</td>\n",
              "      <td>False</td>\n",
              "    </tr>\n",
              "    <tr>\n",
              "      <th>1</th>\n",
              "      <td>1</td>\n",
              "      <td>1</td>\n",
              "      <td>female</td>\n",
              "      <td>38.0</td>\n",
              "      <td>1</td>\n",
              "      <td>0</td>\n",
              "      <td>71.2833</td>\n",
              "      <td>C</td>\n",
              "      <td>First</td>\n",
              "      <td>woman</td>\n",
              "      <td>False</td>\n",
              "      <td>C</td>\n",
              "      <td>Cherbourg</td>\n",
              "      <td>yes</td>\n",
              "      <td>False</td>\n",
              "    </tr>\n",
              "    <tr>\n",
              "      <th>2</th>\n",
              "      <td>1</td>\n",
              "      <td>3</td>\n",
              "      <td>female</td>\n",
              "      <td>26.0</td>\n",
              "      <td>0</td>\n",
              "      <td>0</td>\n",
              "      <td>7.9250</td>\n",
              "      <td>S</td>\n",
              "      <td>Third</td>\n",
              "      <td>woman</td>\n",
              "      <td>False</td>\n",
              "      <td>NaN</td>\n",
              "      <td>Southampton</td>\n",
              "      <td>yes</td>\n",
              "      <td>True</td>\n",
              "    </tr>\n",
              "    <tr>\n",
              "      <th>3</th>\n",
              "      <td>1</td>\n",
              "      <td>1</td>\n",
              "      <td>female</td>\n",
              "      <td>35.0</td>\n",
              "      <td>1</td>\n",
              "      <td>0</td>\n",
              "      <td>53.1000</td>\n",
              "      <td>S</td>\n",
              "      <td>First</td>\n",
              "      <td>woman</td>\n",
              "      <td>False</td>\n",
              "      <td>C</td>\n",
              "      <td>Southampton</td>\n",
              "      <td>yes</td>\n",
              "      <td>False</td>\n",
              "    </tr>\n",
              "    <tr>\n",
              "      <th>4</th>\n",
              "      <td>0</td>\n",
              "      <td>3</td>\n",
              "      <td>male</td>\n",
              "      <td>35.0</td>\n",
              "      <td>0</td>\n",
              "      <td>0</td>\n",
              "      <td>8.0500</td>\n",
              "      <td>S</td>\n",
              "      <td>Third</td>\n",
              "      <td>man</td>\n",
              "      <td>True</td>\n",
              "      <td>NaN</td>\n",
              "      <td>Southampton</td>\n",
              "      <td>no</td>\n",
              "      <td>True</td>\n",
              "    </tr>\n",
              "  </tbody>\n",
              "</table>\n",
              "</div>"
            ],
            "text/plain": [
              "   survived  pclass     sex   age  sibsp  parch     fare embarked  class  \\\n",
              "0         0       3    male  22.0      1      0   7.2500        S  Third   \n",
              "1         1       1  female  38.0      1      0  71.2833        C  First   \n",
              "2         1       3  female  26.0      0      0   7.9250        S  Third   \n",
              "3         1       1  female  35.0      1      0  53.1000        S  First   \n",
              "4         0       3    male  35.0      0      0   8.0500        S  Third   \n",
              "\n",
              "     who  adult_male deck  embark_town alive  alone  \n",
              "0    man        True  NaN  Southampton    no  False  \n",
              "1  woman       False    C    Cherbourg   yes  False  \n",
              "2  woman       False  NaN  Southampton   yes   True  \n",
              "3  woman       False    C  Southampton   yes  False  \n",
              "4    man        True  NaN  Southampton    no   True  "
            ]
          },
          "execution_count": 3,
          "metadata": {},
          "output_type": "execute_result"
        }
      ],
      "source": [
        "titanic.head()"
      ]
    },
    {
      "cell_type": "code",
      "execution_count": null,
      "metadata": {
        "nbgrader": {
          "grade": false,
          "grade_id": "cell-eac91a2d03dd8704",
          "locked": true,
          "schema_version": 1,
          "solution": false
        },
        "id": "u_Ofvx7uNjYG",
        "outputId": "8cd717db-96f7-42c9-ca41-b59d7a2645f3"
      },
      "outputs": [
        {
          "name": "stdout",
          "output_type": "stream",
          "text": [
            "<class 'pandas.core.frame.DataFrame'>\n",
            "RangeIndex: 891 entries, 0 to 890\n",
            "Data columns (total 15 columns):\n",
            " #   Column       Non-Null Count  Dtype   \n",
            "---  ------       --------------  -----   \n",
            " 0   survived     891 non-null    int64   \n",
            " 1   pclass       891 non-null    int64   \n",
            " 2   sex          891 non-null    object  \n",
            " 3   age          714 non-null    float64 \n",
            " 4   sibsp        891 non-null    int64   \n",
            " 5   parch        891 non-null    int64   \n",
            " 6   fare         891 non-null    float64 \n",
            " 7   embarked     889 non-null    object  \n",
            " 8   class        891 non-null    category\n",
            " 9   who          891 non-null    object  \n",
            " 10  adult_male   891 non-null    bool    \n",
            " 11  deck         203 non-null    category\n",
            " 12  embark_town  889 non-null    object  \n",
            " 13  alive        891 non-null    object  \n",
            " 14  alone        891 non-null    bool    \n",
            "dtypes: bool(2), category(2), float64(2), int64(4), object(5)\n",
            "memory usage: 80.6+ KB\n"
          ]
        }
      ],
      "source": [
        "titanic.info()"
      ]
    },
    {
      "cell_type": "markdown",
      "metadata": {
        "nbgrader": {
          "grade": false,
          "grade_id": "cell-03fbbbd76c52b364",
          "locked": true,
          "schema_version": 1,
          "solution": false
        },
        "id": "oI1OeBqYNjYG"
      },
      "source": [
        "[Back to top](#Index:)\n",
        "\n",
        "### Problem 1: Conditional Probabilities with `pandas`\n",
        "\n",
        "**3 Points**\n",
        "\n",
        "Using the `titanic` data, conditional probabilities can be calculated by subsetting the data to the condition of interest and comparing the outcomes within this criteria.  For example, what is the probability, given that someone is in first class, that they are over the age of 40?\n",
        "\n",
        "To compute this, assign the following objects to the specified variable:\n",
        "\n",
        "```python\n",
        "first_class = #how many people in first class\n",
        "first_class_over_40 = #how many people in first class were over the age of 40?\n",
        "p_over_40_given_first_class = #p(age > 40 | class = First)\n",
        "```"
      ]
    },
    {
      "cell_type": "code",
      "execution_count": null,
      "metadata": {
        "nbgrader": {
          "grade": false,
          "grade_id": "cell-bb5bface46609af6",
          "locked": false,
          "schema_version": 1,
          "solution": true
        },
        "id": "Qrji4MmcNjYG",
        "outputId": "f039c37f-d0e3-4e3f-c4d0-c55fbb226888"
      },
      "outputs": [
        {
          "name": "stdout",
          "output_type": "stream",
          "text": [
            "0.35185185185185186\n"
          ]
        }
      ],
      "source": [
        "### GRADED\n",
        "\n",
        "first_class = ''\n",
        "first_class_over_40 = ''\n",
        "p_over_40_given_first_class = ''\n",
        "\n",
        "### BEGIN SOLUTION\n",
        "first_class = titanic.loc[titanic['class'] == 'First'].shape[0]\n",
        "first_class_over_40 = titanic.loc[(titanic['age'] > 40) & (titanic['class'] == 'First')].shape[0]\n",
        "p_over_40_given_first_class = first_class_over_40/first_class\n",
        "### END SOLUTION\n",
        "\n",
        "# Answer check\n",
        "print(p_over_40_given_first_class)"
      ]
    },
    {
      "cell_type": "markdown",
      "metadata": {
        "nbgrader": {
          "grade": false,
          "grade_id": "cell-09894f6fddbf1e37",
          "locked": true,
          "schema_version": 1,
          "solution": false
        },
        "id": "XHKGvFMhNjYG"
      },
      "source": [
        "[Back to top](#Index:)\n",
        "\n",
        "### Problem 2: $P(age > 40 | class = ~  'Second')$\n",
        "\n",
        "**3 Points**\n",
        "\n",
        "Now compute the probability that a passenger is over the age of 40 given that the passenger was in second class.  \n",
        "\n",
        "To compute this, assign the following objects to the specified variable:\n",
        "\n",
        "```python\n",
        "second_class = #how many people in second class\n",
        "second_class_over_40 = #how many people in second class were over the age of 40?\n",
        "p_over_40_given_second_class = #p(age > 40 | class = Second)\n",
        "```\n",
        "\n"
      ]
    },
    {
      "cell_type": "code",
      "execution_count": null,
      "metadata": {
        "nbgrader": {
          "grade": false,
          "grade_id": "cell-a874935c2eb9a5ef",
          "locked": false,
          "schema_version": 1,
          "solution": true
        },
        "id": "u55dzMp6NjYH",
        "outputId": "1ed30024-628f-41bc-ad8d-4b4c54787fb5"
      },
      "outputs": [
        {
          "name": "stdout",
          "output_type": "stream",
          "text": [
            "0.18478260869565216\n"
          ]
        }
      ],
      "source": [
        "### GRADED\n",
        "\n",
        "second_class = ''\n",
        "second_class_over_40 = ''\n",
        "p_over_40_given_second_class = ''\n",
        "\n",
        "### BEGIN SOLUTION\n",
        "second_class = titanic.loc[titanic['class'] == 'Second'].shape[0]\n",
        "second_class_over_40 = titanic.loc[(titanic['age'] > 40) & (titanic['class'] == 'Second')].shape[0]\n",
        "p_over_40_given_second_class = second_class_over_40/second_class\n",
        "### END SOLUTION\n",
        "\n",
        "# Answer check\n",
        "print(p_over_40_given_second_class)"
      ]
    },
    {
      "cell_type": "markdown",
      "metadata": {
        "nbgrader": {
          "grade": false,
          "grade_id": "cell-1ea2335b5ec22847",
          "locked": true,
          "schema_version": 1,
          "solution": false
        },
        "id": "9bhB6vk6NjYH"
      },
      "source": [
        "[Back to top](#Index:)\n",
        "\n",
        "### Problem 3: Visualizing the Conditional Probability\n",
        "\n",
        "**4 Points**\n",
        "\n",
        "\n",
        "To visualize the earlier conditional probabilities, draw a plot containing a histogram of the age distribution of passengers in first and second class. Follow the hints below for one approach and use `sns.histplot()` function for drawing the histograms."
      ]
    },
    {
      "cell_type": "code",
      "execution_count": 4,
      "metadata": {
        "nbgrader": {
          "grade": false,
          "grade_id": "cell-dbe61fd0af740b03",
          "locked": false,
          "schema_version": 1,
          "solution": true
        },
        "colab": {
          "base_uri": "https://localhost:8080/",
          "height": 467
        },
        "id": "IiwjEIQ7NjYH",
        "outputId": "680b3702-2fdd-43c7-e1c4-086eb91a314b"
      },
      "outputs": [
        {
          "output_type": "execute_result",
          "data": {
            "text/plain": [
              "<Axes: xlabel='age', ylabel='Count'>"
            ]
          },
          "metadata": {},
          "execution_count": 4
        },
        {
          "output_type": "display_data",
          "data": {
            "text/plain": [
              "<Figure size 640x480 with 1 Axes>"
            ],
            "image/png": "[encoded data removed]"
          },
          "metadata": {}
        }
      ],
      "source": [
        "### GRADED\n",
        "\n",
        "first_class = ''\n",
        "second_class = ''\n",
        "\n",
        "#histogram of first class\n",
        "\n",
        "#histogram of second class\n",
        "\n",
        "### BEGIN SOLUTION\n",
        "first_class = titanic.loc[titanic['class'] == 'First']['age']\n",
        "second_class = titanic.loc[titanic['class'] == 'Second']['age']\n",
        "sns.histplot(first_class, color = 'orange', alpha = 0.7)\n",
        "sns.histplot(second_class, color = 'lightblue', alpha = 0.7)\n",
        "### END SOLUTION"
      ]
    },
    {
      "cell_type": "markdown",
      "metadata": {
        "nbgrader": {
          "grade": false,
          "grade_id": "cell-8f478a1bb6a7401a",
          "locked": true,
          "schema_version": 1,
          "solution": false
        },
        "id": "0PyOeyBxNjYH"
      },
      "source": [
        "[Back to top](#Index:)\n",
        "\n",
        "### Problem 4: $P(\\text{over 30} | \\text{survived})$\n",
        "\n",
        "**4 Points**\n",
        "\n",
        "\n",
        "Compute the probability given that a passenger survived, given that they were over the age of 30.\n",
        "\n",
        "\n",
        "To compute this, assign the following objects to the specified variable:\n",
        "\n",
        "```python\n",
        "num_survived = #how many people survived\n",
        "survived_over_30 = #how many of the survived people were over 30?\n",
        "p_over_30_given_survived = #p(age > 30 | survived)\n",
        "```\n"
      ]
    },
    {
      "cell_type": "code",
      "execution_count": null,
      "metadata": {
        "nbgrader": {
          "grade": false,
          "grade_id": "cell-9de7f333272022ac",
          "locked": false,
          "schema_version": 1,
          "solution": true
        },
        "id": "OLz5Qo0aNjYI",
        "outputId": "05861b05-46ea-4c3f-ad4e-ac85c55cb503"
      },
      "outputs": [
        {
          "name": "stdout",
          "output_type": "stream",
          "text": [
            "0.36257309941520466\n"
          ]
        }
      ],
      "source": [
        "### GRADED\n",
        "\n",
        "num_survived = ''\n",
        "survived_over_30 = ''\n",
        "p_over_30_given_survived = ''\n",
        "\n",
        "### BEGIN SOLUTION\n",
        "num_survived = titanic.loc[titanic['survived'] == 1].shape[0]\n",
        "survived_over_30 = titanic.loc[(titanic['age'] > 30) & (titanic['survived'] == 1)].shape[0]\n",
        "p_over_30_given_survived = survived_over_30/num_survived\n",
        "### END SOLUTION\n",
        "\n",
        "# Answer check\n",
        "print(p_over_30_given_survived)"
      ]
    },
    {
      "cell_type": "markdown",
      "metadata": {
        "nbgrader": {
          "grade": false,
          "grade_id": "cell-093f61def65033d2",
          "locked": true,
          "schema_version": 1,
          "solution": false
        },
        "id": "WWWDc8UzNjYI"
      },
      "source": [
        "[Back to top](#Index:)\n",
        "\n",
        "### Distribution of Ages for Survived and Not Survived\n",
        "\n",
        "\n",
        "\n",
        "The plot below shows the distribution of ages for those that survived and those that did not together on the same axes."
      ]
    },
    {
      "cell_type": "code",
      "execution_count": null,
      "metadata": {
        "nbgrader": {
          "grade": false,
          "grade_id": "cell-5b658f1e5b65f1f9",
          "locked": true,
          "schema_version": 1,
          "solution": false
        },
        "id": "IQNjkmQHNjYI",
        "outputId": "60b0b318-9f72-45cd-ed71-8d9ecf0bf1d4"
      },
      "outputs": [
        {
          "data": {
            "text/plain": [
              "<matplotlib.axes._subplots.AxesSubplot at 0x7f3275b34278>"
            ]
          },
          "execution_count": 13,
          "metadata": {},
          "output_type": "execute_result"
        },
        {
          "data": {
            "image/png": "[encoded data removed]",
            "text/plain": [
              "<Figure size 432x288 with 1 Axes>"
            ]
          },
          "metadata": {
            "needs_background": "light"
          },
          "output_type": "display_data"
        }
      ],
      "source": [
        "\n",
        "sns.histplot(data = titanic, x = 'age', hue = 'survived')\n"
      ]
    },
    {
      "cell_type": "markdown",
      "metadata": {
        "nbgrader": {
          "grade": false,
          "grade_id": "cell-972a7e076c271666",
          "locked": true,
          "schema_version": 1,
          "solution": false
        },
        "id": "l2aD0O2INjYI"
      },
      "source": [
        "[Back to top](#Index:)\n",
        "\n",
        "### Problem 5: Which is more likely?\n",
        "\n",
        "**3 Points**\n",
        "\n",
        "Based on your histogram above, given that a person was under the age of 20, is it more likely that they survived or that they did not survive?  \n",
        "\n",
        "Assign your answer as a boolean value to the variable `survived` below. True means you believe more likely to have survived, False means more likely to be deceased."
      ]
    },
    {
      "cell_type": "code",
      "execution_count": null,
      "metadata": {
        "nbgrader": {
          "grade": false,
          "grade_id": "cell-abe5fe5c1f79a12a",
          "locked": false,
          "schema_version": 1,
          "solution": true
        },
        "id": "fu3SAOA_NjYI"
      },
      "outputs": [],
      "source": [
        "### GRADED\n",
        "\n",
        "survived = ''\n",
        "\n",
        "### BEGIN SOLUTION\n",
        "survived = False\n",
        "\n",
        "\n",
        "#HERE IS A WAY TO GET TO THE ANSWER USING CODE\n",
        "#num_under_20 = titanic[titanic['age']<20].shape[0]\n",
        "#under_20_survived = titanic[(titanic['survived']==1) & (titanic['age']<20)].shape[0]\n",
        "#p_survived_given_under_20 = under_20_survived/num_under_20\n",
        "\n",
        "#survived = p_survived_given_under_20>1-p_survived_given_under_20\"\n",
        "\n",
        "### END SOLUTION"
      ]
    }
  ],
  "metadata": {
    "celltoolbar": "Create Assignment",
    "kernelspec": {
      "display_name": "Python 3 (ipykernel)",
      "language": "python",
      "name": "python3"
    },
    "language_info": {
      "codemirror_mode": {
        "name": "ipython",
        "version": 3
      },
      "file_extension": ".py",
      "mimetype": "text/x-python",
      "name": "python",
      "nbconvert_exporter": "python",
      "pygments_lexer": "ipython3",
      "version": "3.12.1"
    },
    "colab": {
      "provenance": [],
      "include_colab_link": true
    }
  },
  "nbformat": 4,
  "nbformat_minor": 0
}