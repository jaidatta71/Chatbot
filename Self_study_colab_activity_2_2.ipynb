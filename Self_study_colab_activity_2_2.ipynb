{
  "cells": [
    {
      "cell_type": "markdown",
      "metadata": {
        "id": "view-in-github",
        "colab_type": "text"
      },
      "source": [
        "<a href=\"https://colab.research.google.com/github/jaidatta71/Chatbot/blob/main/Self_study_colab_activity_2_2.ipynb\" target=\"_parent\"><img src=\"https://colab.research.google.com/assets/colab-badge.svg\" alt=\"Open In Colab\"/></a>"
      ]
    },
    {
      "cell_type": "markdown",
      "metadata": {
        "nbgrader": {
          "grade": false,
          "grade_id": "cell-0bff1a324f359386",
          "locked": true,
          "schema_version": 1,
          "solution": false
        },
        "id": "i1c6JCfg6Sea"
      },
      "source": [
        "## Self-Study Colab Activity 2.2: The Law of Large Numbers\n",
        "\n",
        "**Expected Time: 45 Minutes**\n",
        "\n",
        "\n",
        "In this activity, you will draw samples of an increasing size from a given distribution.  These sample means will be tracked and compared to those known from the larger distribution.  You are to use the `scipy.stats` module and its distribution objects to produce these distributions and their samples.\n",
        "\n",
        "## Index:\n",
        "\n",
        "- [Problem 1](#Problem-1:-A-Uniform-Distribution)\n",
        "- [Problem 2](#Problem-2:-Loop-of-Samples)\n",
        "- [Problem 3](#Problem-3:-Comparing-the-sample-means-to-actual)\n",
        "- [Problem 4](#Problem-4:-Distribution-of-Sample-Means)\n",
        "- [Problem 5](#Problem-5:-Repeat-with-Gaussian-Distribution)\n"
      ]
    },
    {
      "cell_type": "code",
      "execution_count": 2,
      "metadata": {
        "id": "6_t-Cr9p6See"
      },
      "outputs": [],
      "source": [
        "import numpy as np\n",
        "import pandas as pd\n",
        "import matplotlib.pyplot as plt\n",
        "from scipy.stats import uniform, norm"
      ]
    },
    {
      "cell_type": "markdown",
      "metadata": {
        "nbgrader": {
          "grade": false,
          "grade_id": "cell-0599760f8eb84292",
          "locked": true,
          "schema_version": 1,
          "solution": false
        },
        "id": "wrOkShD56Sef"
      },
      "source": [
        "[Back to top](#Index:)\n",
        "\n",
        "### Problem 1: A Uniform Distribution\n",
        "\n",
        "\n",
        "\n",
        "Use the `uniform` function to create a uniform distribution with `loc = 5` and `scale = 10`.  Assign your results as a distribution object to the variable `dist1` below.\n",
        "\n",
        "Done correctly, this code will produce uniformly distributed points between 5 and 15 with mean at 10."
      ]
    },
    {
      "cell_type": "code",
      "execution_count": 3,
      "metadata": {
        "nbgrader": {
          "grade": false,
          "grade_id": "cell-e19a29726f7a7f59",
          "locked": false,
          "schema_version": 1,
          "solution": true
        },
        "colab": {
          "base_uri": "https://localhost:8080/"
        },
        "id": "0ZScTWq46Seg",
        "outputId": "5f8512a6-e2a2-42d1-8c1a-5f7377e62a51"
      },
      "outputs": [
        {
          "output_type": "stream",
          "name": "stdout",
          "text": [
            "<class 'scipy.stats._distn_infrastructure.rv_continuous_frozen'>\n"
          ]
        }
      ],
      "source": [
        "### GRADED\n",
        "\n",
        "dist1 = uniform(loc=5, scale=10)\n",
        "\n",
        "# Answer check\n",
        "print(type(dist1))"
      ]
    },
    {
      "cell_type": "markdown",
      "metadata": {
        "nbgrader": {
          "grade": false,
          "grade_id": "cell-715829a75ba9fccc",
          "locked": true,
          "schema_version": 1,
          "solution": false
        },
        "id": "34HqOu546Seh"
      },
      "source": [
        "###  Problem 2: Loop of Samples\n",
        "\n",
        "\n",
        "Use a `for` loop to generate samples of sizes from 1 to 500. Inside the `for` loop, use the `.rvs` method on `dist1` to return a random sample. Inside the `.rvs` method, set `random_state` equal to 22.  Use `np.mean` to compute the sample mean of each sample size. Append each sample mean to the list `sample_means`.  "
      ]
    },
    {
      "cell_type": "code",
      "execution_count": 13,
      "metadata": {
        "nbgrader": {
          "grade": false,
          "grade_id": "cell-e6ebb7028e816557",
          "locked": false,
          "schema_version": 1,
          "solution": true
        },
        "id": "QADiJnqk6Seh",
        "outputId": "3478b880-a0d6-4371-d0da-f5c56bbf1438",
        "colab": {
          "base_uri": "https://localhost:8080/"
        }
      },
      "outputs": [
        {
          "output_type": "stream",
          "name": "stdout",
          "text": [
            "<class 'list'>\n"
          ]
        },
        {
          "output_type": "execute_result",
          "data": {
            "text/plain": [
              "[9.971854096049016,\n",
              " 9.971854096049016,\n",
              " 9.971854096049016,\n",
              " 9.971854096049016,\n",
              " 9.971854096049016,\n",
              " 9.971854096049016,\n",
              " 9.971854096049016,\n",
              " 9.971854096049016,\n",
              " 9.971854096049016,\n",
              " 9.971854096049016,\n",
              " 9.971854096049016,\n",
              " 9.971854096049016,\n",
              " 9.971854096049016,\n",
              " 9.971854096049016,\n",
              " 9.971854096049016,\n",
              " 9.971854096049016,\n",
              " 9.971854096049016,\n",
              " 9.971854096049016,\n",
              " 9.971854096049016,\n",
              " 9.971854096049016,\n",
              " 9.971854096049016,\n",
              " 9.971854096049016,\n",
              " 9.971854096049016,\n",
              " 9.971854096049016,\n",
              " 9.971854096049016,\n",
              " 9.971854096049016,\n",
              " 9.971854096049016,\n",
              " 9.971854096049016,\n",
              " 9.971854096049016,\n",
              " 9.971854096049016,\n",
              " 9.971854096049016,\n",
              " 9.971854096049016,\n",
              " 9.971854096049016,\n",
              " 9.971854096049016,\n",
              " 9.971854096049016,\n",
              " 9.971854096049016,\n",
              " 9.971854096049016,\n",
              " 9.971854096049016,\n",
              " 9.971854096049016,\n",
              " 9.971854096049016,\n",
              " 9.971854096049016,\n",
              " 9.971854096049016,\n",
              " 9.971854096049016,\n",
              " 9.971854096049016,\n",
              " 9.971854096049016,\n",
              " 9.971854096049016,\n",
              " 9.971854096049016,\n",
              " 9.971854096049016,\n",
              " 9.971854096049016,\n",
              " 9.971854096049016]"
            ]
          },
          "metadata": {},
          "execution_count": 13
        }
      ],
      "source": [
        "### GRADED\n",
        "sample_means = []\n",
        "\n",
        "#loop over values 1 - 500\n",
        "for i in range(1,500):\n",
        "  kk=dist1.rvs(size=100,random_state=22)\n",
        "  kkmean= np.mean(kk)\n",
        "  sample_means.append(kkmean)\n",
        "\n",
        "    #generate samples\n",
        "    #remember the random_state\n",
        "\n",
        "    #find sample mean\n",
        "\n",
        "    #append mean to sample_means\n",
        "\n",
        "# Answer check\n",
        "print(type(sample_means))\n",
        "#print(sample_means[:5], '\\n', sample_means[-5:])\n",
        "sample_means[:50]"
      ]
    },
    {
      "cell_type": "markdown",
      "metadata": {
        "nbgrader": {
          "grade": false,
          "grade_id": "cell-6b3e8778dd9e4f7b",
          "locked": true,
          "schema_version": 1,
          "solution": false
        },
        "id": "8k2jzQaL6Ser"
      },
      "source": [
        "### Problem 3: Comparing the sample means to the actual mean\n",
        "\n",
        "\n",
        "Note that the actual mean of our data is 10.  \n",
        "\n",
        "Does the sample mean approximate to the true mean with an error of less than .1 when the sample size is equal to 400?  Assign your answer as a boolean value to `ans3` below -- True for yes, False for no.  \n",
        "\n",
        "To help you with this exercise, the results of the sample mean are plot below:"
      ]
    },
    {
      "cell_type": "code",
      "execution_count": 21,
      "metadata": {
        "id": "PPJsj4Tz6Ser",
        "outputId": "0ddf9992-c5db-4e8e-d9c6-61680156519a",
        "colab": {
          "base_uri": "https://localhost:8080/",
          "height": 449
        }
      },
      "outputs": [
        {
          "output_type": "display_data",
          "data": {
            "text/plain": [
              "<Figure size 640x480 with 1 Axes>"
            ],
            "image/png": "[encoded data removed]"
          },
          "metadata": {}
        }
      ],
      "source": [
        "plt.plot( sample_means, label = 'sample mean', color = 'purple')\n",
        "plt.axhline(10, label = 'true mean', color = 'green')\n",
        "plt.xlabel('Sample Size')\n",
        "plt.legend();\n",
        "\n"
      ]
    },
    {
      "cell_type": "code",
      "execution_count": 22,
      "metadata": {
        "nbgrader": {
          "grade": false,
          "grade_id": "cell-760f114b86f46710",
          "locked": false,
          "schema_version": 1,
          "solution": true
        },
        "id": "B1-TrPf-6Ser",
        "outputId": "fd80ea2f-fa8e-41f4-cc67-015f8eedbd12",
        "colab": {
          "base_uri": "https://localhost:8080/"
        }
      },
      "outputs": [
        {
          "output_type": "stream",
          "name": "stdout",
          "text": [
            "<class 'str'>\n"
          ]
        }
      ],
      "source": [
        "\n",
        "\n",
        "ans3 = 'yes'\n",
        "\n",
        "\n",
        "# Answer check\n",
        "print(type(ans3))"
      ]
    },
    {
      "cell_type": "markdown",
      "metadata": {
        "nbgrader": {
          "grade": false,
          "grade_id": "cell-6860b63501e42b25",
          "locked": true,
          "schema_version": 1,
          "solution": false
        },
        "id": "q69LZoap6Ses"
      },
      "source": [
        "### Problem 4: Distribution of Sample Means\n",
        "\n",
        "\n",
        "As you notice in the plot above, there is a larger variation in the small sample sizes.  As the lectures suggest, consider only those samples of size 30 or more and compute their mean and standard deviation.  \n",
        "\n",
        "Assign the samples of size 30 or more as a list to the variable `samples_30_or_more` below.\n",
        "\n",
        "Use `np.mean()` to compute the mean and assign the result to the variable `samples_mean`.\n",
        "\n",
        "Use `np.std()` to compute the standard deviation and assign the result to the variable `samples_std`.\n",
        "\n",
        "Uncomment the code to see a histogram of these sample means.  \n",
        "\n",
        "HINT: remember that Python starts counting at 0, so using `sample_means[30:]` is actually incorrect."
      ]
    },
    {
      "cell_type": "code",
      "execution_count": 18,
      "metadata": {
        "nbgrader": {
          "grade": false,
          "grade_id": "cell-6b84832c8690fe91",
          "locked": false,
          "schema_version": 1,
          "solution": true
        },
        "id": "OTQ2Y3P-6Ses",
        "outputId": "97c2ea4f-d77e-43bb-b0d0-e270d3eafb3a",
        "colab": {
          "base_uri": "https://localhost:8080/",
          "height": 504
        }
      },
      "outputs": [
        {
          "output_type": "stream",
          "name": "stdout",
          "text": [
            "<class 'list'>\n",
            "9.971854096049016\n",
            "0.0\n"
          ]
        },
        {
          "output_type": "display_data",
          "data": {
            "text/plain": [
              "<Figure size 640x480 with 1 Axes>"
            ],
            "image/png": "[encoded data removed]"
          },
          "metadata": {}
        }
      ],
      "source": [
        "samples_30_or_more = sample_means[:50]\n",
        "samples_mean = np.mean(samples_30_or_more)\n",
        "samples_std = np.std(samples_30_or_more)\n",
        "\n",
        "#Uncomment the code below to see a plot of your solution\n",
        "plt.hist(samples_30_or_more, edgecolor = 'black', alpha = 0.3)\n",
        "plt.title('Distribution of Sample Means');\n",
        "\n",
        "# Answer check\n",
        "print(type(samples_30_or_more))\n",
        "print(samples_mean)\n",
        "print(samples_std)"
      ]
    },
    {
      "cell_type": "markdown",
      "metadata": {
        "nbgrader": {
          "grade": false,
          "grade_id": "cell-81d097c21d8b29eb",
          "locked": true,
          "schema_version": 1,
          "solution": false
        },
        "id": "UVjJKmMU6Set"
      },
      "source": [
        "### Problem 5: Repeat with Gaussian Distribution\n",
        "\n",
        "\n",
        "\n",
        "Now, you are to repeat the above exercise using samples from a Gaussian distribution\n",
        "\n",
        "\n",
        "Use the function `norm` with argument `loc` equal to five and `scale` equal to ten to define a Gaussian distribution and assign the result to `gauss_dist`.\n",
        "\n",
        "Use a `for` loop to generate samples of sizes from 30 to 500. Inside the `for` loop, use the `.rvs` method on `gauss_dist` to return a random sample. Inside the `.rvs` method, set `random_state` equal to 22.  Use `np.mean` to compute the sample mean of each sample size. Append each sample mean to the list `sample_means_gauss`.  \n",
        "\n",
        "Outside the `for` loop, use `np.mean()` to compute the mean and assign the result to the variable `gauss_mean`.\n",
        "\n",
        "Outside the `for` loop, use `np.std()` to compute the standard deviation and assign the result to the variable `gauss_standard_deviation`."
      ]
    },
    {
      "cell_type": "code",
      "execution_count": 20,
      "metadata": {
        "nbgrader": {
          "grade": false,
          "grade_id": "cell-66731bec3448d1a4",
          "locked": false,
          "schema_version": 1,
          "solution": true
        },
        "id": "8FWr3K5g6Set",
        "outputId": "f7c5e27d-9cbe-4838-f1c5-b2443bb82d64",
        "colab": {
          "base_uri": "https://localhost:8080/"
        }
      },
      "outputs": [
        {
          "output_type": "stream",
          "name": "stdout",
          "text": [
            "<class 'list'>\n",
            "[4.463245993877482, 4.463245993877482, 4.463245993877482, 4.463245993877482, 4.463245993877482] \n",
            " [4.463245993877482, 4.463245993877482, 4.463245993877482, 4.463245993877482, 4.463245993877482]\n",
            "4.463245993877481\n",
            "8.881784197001252e-16\n"
          ]
        }
      ],
      "source": [
        "gauss_dist = norm(loc=5, scale=10)\n",
        "sample_means_gauss = []\n",
        "\n",
        "#create the distribution object\n",
        "\n",
        "#loop over values 30 - 500\n",
        "for i in range(30,500):\n",
        "  kk=gauss_dist.rvs(size=100,random_state=22)\n",
        "  kkmean= np.mean(kk)\n",
        "  sample_means_gauss.append(kkmean)\n",
        "\n",
        "    #generate samples\n",
        "    #remember the random_state\n",
        "\n",
        "    #find sample mean\n",
        "\n",
        "    #append mean to sample_means\n",
        "\n",
        "gauss_mean = np.mean(sample_means_gauss)\n",
        "gauss_standard_deviation = np.std(sample_means_gauss)\n",
        "\n",
        "# Answer check\n",
        "print(type(sample_means_gauss))\n",
        "print(sample_means_gauss[:5], '\\n', sample_means_gauss[-5:])\n",
        "print(gauss_mean)\n",
        "print(gauss_standard_deviation)"
      ]
    },
    {
      "cell_type": "code",
      "execution_count": null,
      "metadata": {
        "id": "jSha2-E86Seu"
      },
      "outputs": [],
      "source": []
    }
  ],
  "metadata": {
    "celltoolbar": "Create Assignment",
    "kernelspec": {
      "display_name": "Python 3",
      "language": "python",
      "name": "python3"
    },
    "language_info": {
      "codemirror_mode": {
        "name": "ipython",
        "version": 3
      },
      "file_extension": ".py",
      "mimetype": "text/x-python",
      "name": "python",
      "nbconvert_exporter": "python",
      "pygments_lexer": "ipython3",
      "version": "3.6.9"
    },
    "colab": {
      "provenance": [],
      "include_colab_link": true
    }
  },
  "nbformat": 4,
  "nbformat_minor": 0
}