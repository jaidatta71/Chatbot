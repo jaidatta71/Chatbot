{
  "nbformat": 4,
  "nbformat_minor": 0,
  "metadata": {
    "colab": {
      "provenance": [],
      "mount_file_id": "1eTndPyda6oomaBYNnujNoCYXaZBIhknU",
      "authorship_tag": "ABX9TyPrWKEqkAqO4jDCajBghqmR",
      "include_colab_link": true
    },
    "kernelspec": {
      "name": "python3",
      "display_name": "Python 3"
    },
    "language_info": {
      "name": "python"
    }
  },
  "cells": [
    {
      "cell_type": "markdown",
      "metadata": {
        "id": "view-in-github",
        "colab_type": "text"
      },
      "source": [
        "<a href=\"https://colab.research.google.com/github/jaidatta71/Chatbot/blob/main/Function_Correlation.ipynb\" target=\"_parent\"><img src=\"https://colab.research.google.com/assets/colab-badge.svg\" alt=\"Open In Colab\"/></a>"
      ]
    },
    {
      "cell_type": "code",
      "execution_count": 34,
      "metadata": {
        "id": "VnQC1n8ghIaj"
      },
      "outputs": [],
      "source": [
        "#  Function to find feature that highly correlates to output i.e., Sales Price\n",
        "import pandas as pd\n",
        "\n",
        "def find_highest_positive_correlation(df, target_variable):\n",
        "\n",
        "    correlations = df.corr(numeric_only=True)[target_variable]\n",
        "    positive_correlations = correlations[correlations > 0].drop(target_variable, errors='ignore')\n",
        "\n",
        "    if positive_correlations.empty:\n",
        "        return None\n",
        "\n",
        "    highest_corr_feature = positive_correlations.idxmax()\n",
        "    #highest_corr_value = positive_correlations.max()\n",
        "\n",
        "    return highest_corr_feature"
      ]
    },
    {
      "cell_type": "markdown",
      "source": [],
      "metadata": {
        "id": "Sa8buIyjlUDa"
      }
    },
    {
      "cell_type": "code",
      "source": [
        "df = pd.read_csv('drive/MyDrive/AmesHousing.csv')"
      ],
      "metadata": {
        "colab": {
          "base_uri": "https://localhost:8080/"
        },
        "id": "HdsUlB8ji7vf",
        "outputId": "0a7ece29-b8b1-4f70-e27d-915d1356aec5"
      },
      "execution_count": 14,
      "outputs": [
        {
          "output_type": "stream",
          "name": "stdout",
          "text": [
            "<class 'pandas.core.frame.DataFrame'>\n"
          ]
        },
        {
          "output_type": "execute_result",
          "data": {
            "text/plain": [
              "(2930, 82)"
            ]
          },
          "metadata": {},
          "execution_count": 14
        }
      ]
    },
    {
      "cell_type": "code",
      "source": [
        "find_highest_positive_correlation(df, \"SalePrice\")"
      ],
      "metadata": {
        "colab": {
          "base_uri": "https://localhost:8080/",
          "height": 36
        },
        "id": "PQ52FuOalaWn",
        "outputId": "6c2fa6a9-59ab-41f6-822a-f7193a8e8f51"
      },
      "execution_count": 35,
      "outputs": [
        {
          "output_type": "execute_result",
          "data": {
            "text/plain": [
              "'Overall Qual'"
            ],
            "application/vnd.google.colaboratory.intrinsic+json": {
              "type": "string"
            }
          },
          "metadata": {},
          "execution_count": 35
        }
      ]
    },
    {
      "cell_type": "code",
      "source": [
        "\n"
      ],
      "metadata": {
        "colab": {
          "base_uri": "https://localhost:8080/"
        },
        "id": "VfuUaq3aXftH",
        "outputId": "f460ae66-04f2-4f4c-fd11-c1885baf1138"
      },
      "execution_count": 31,
      "outputs": [
        {
          "output_type": "stream",
          "name": "stdout",
          "text": [
            "{'ProductID': 1, None: 5, '4/28/25': 6, '5/5/25': 7, '5/12/25': 8, '5/19/25': 9, '5/26/25': 10, '6/2/25': 11, '6/9/25': 12, '6/16/25': 13, '6/23/25': 14, '6/30/25': 15, '7/7/25': 16, '7/14/25': 17, '7/21/25': 18, '7/28/25': 19, '8/4/25': 20, '8/11/25': 21, '8/18/25': 22, '8/25/25': 23, '9/1/25': 24, '9/8/25': 25, '9/15/25': 26, '9/22/25': 27, '9/29/25': 28, '10/6/25': 29, '10/13/25': 30, '10/20/25': 31, '10/27/25': 32, '11/3/25': 33, '11/10/25': 34, '11/17/25': 35, '11/24/25': 36, '12/1/25': 37, '12/8/25': 38}\n"
          ]
        }
      ]
    }
  ]
}