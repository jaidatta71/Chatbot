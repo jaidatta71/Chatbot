{
  "cells": [
    {
      "cell_type": "markdown",
      "metadata": {
        "id": "view-in-github",
        "colab_type": "text"
      },
      "source": [
        "<a href=\"https://colab.research.google.com/github/jaidatta71/Chatbot/blob/main/try_it_2_1.ipynb\" target=\"_parent\"><img src=\"https://colab.research.google.com/assets/colab-badge.svg\" alt=\"Open In Colab\"/></a>"
      ]
    },
    {
      "cell_type": "markdown",
      "metadata": {
        "id": "_gUvCj7vr58D"
      },
      "source": [
        "# The Central Limit Theorem\n",
        "\n",
        "The *Central Limit Theorem* states that if we draw a simple random sample of size $n$ from any population with mean $\\mu$ and standard deviation $\\sigma$, if $n$ is large, the distribution of the sample means is approximately normal of the form\n",
        "\n",
        "$$N(\\mu, \\frac{\\sigma}{n})$$"
      ]
    },
    {
      "cell_type": "markdown",
      "metadata": {
        "id": "hzM0Yc22r58E"
      },
      "source": [
        "This activity is meant to offer an example of the central limit theorem in action and the effect of using different sample sizes in forming the distribution of sample means."
      ]
    },
    {
      "cell_type": "markdown",
      "metadata": {
        "id": "6xQAwN_or58F"
      },
      "source": [
        "### Baseball Salaries\n",
        "\n",
        "![](images/baseballs.png)\n",
        "\n",
        "\n",
        "The dataset below represents Major League Baseball player salaries from the year 2020 and was gathered from USA Today's databases. Below, the dataset is loaded, and we examine the features and datatypes."
      ]
    },
    {
      "cell_type": "code",
      "execution_count": 2,
      "metadata": {
        "id": "-uO9FQqsr58F"
      },
      "outputs": [],
      "source": [
        "import matplotlib.pyplot as plt\n",
        "import numpy as np\n",
        "import pandas as pd"
      ]
    },
    {
      "cell_type": "code",
      "source": [
        "from google.colab import drive\n",
        "drive.mount('/content/drive')\n",
        "# After mounting, you can access files in your Drive using paths like: /content/drive/MyDrive/YourFolder/YourFile.csv"
      ],
      "metadata": {
        "colab": {
          "base_uri": "https://localhost:8080/"
        },
        "id": "nyRtC6JDt4RK",
        "outputId": "350e6d44-2a0b-4724-cd61-67761084e75e"
      },
      "execution_count": 3,
      "outputs": [
        {
          "output_type": "stream",
          "name": "stdout",
          "text": [
            "Mounted at /content/drive\n"
          ]
        }
      ]
    },
    {
      "cell_type": "code",
      "execution_count": 4,
      "metadata": {
        "id": "QiPI7PF9r58F"
      },
      "outputs": [],
      "source": [
        "#read in the data\n",
        "baseball_salaries = pd.read_csv('/content/drive/MyDrive/try_it_2_1_starter/data/baseball.csv', index_col=0)"
      ]
    },
    {
      "cell_type": "code",
      "execution_count": 5,
      "metadata": {
        "colab": {
          "base_uri": "https://localhost:8080/"
        },
        "id": "kSrc8cOUr58G",
        "outputId": "706a894e-4349-40d7-cbdc-0810b013a3b1"
      },
      "outputs": [
        {
          "output_type": "stream",
          "name": "stdout",
          "text": [
            "<class 'pandas.core.frame.DataFrame'>\n",
            "Index: 797 entries, 1 to 797\n",
            "Data columns (total 6 columns):\n",
            " #   Column       Non-Null Count  Dtype \n",
            "---  ------       --------------  ----- \n",
            " 0   team         797 non-null    object\n",
            " 1   leagueID     797 non-null    object\n",
            " 2   player       797 non-null    object\n",
            " 3   salary       797 non-null    int64 \n",
            " 4   position     797 non-null    object\n",
            " 5   gamesplayed  797 non-null    int64 \n",
            "dtypes: int64(2), object(4)\n",
            "memory usage: 43.6+ KB\n"
          ]
        }
      ],
      "source": [
        "#Examine the .info()\n",
        "baseball_salaries.info()"
      ]
    },
    {
      "cell_type": "code",
      "execution_count": 6,
      "metadata": {
        "colab": {
          "base_uri": "https://localhost:8080/",
          "height": 206
        },
        "id": "BHcDUf3Br58G",
        "outputId": "60f2f964-8d5d-4776-b302-c24d0a87ea91"
      },
      "outputs": [
        {
          "output_type": "execute_result",
          "data": {
            "text/plain": [
              "  team leagueID    player    salary position  gamesplayed\n",
              "1  ANA       AL  anderga0   6200000       CF          112\n",
              "2  ANA       AL  colonba0  11000000        P            3\n",
              "3  ANA       AL  davanje0    375000       CF          108\n",
              "4  ANA       AL  donnebr0    375000        P            5\n",
              "5  ANA       AL  eckstda0   2150000       SS          142"
            ],
            "text/html": [
              "\n",
              "  <div id=\"df-c39f7d26-27c2-4345-94b2-0167dc449036\" class=\"colab-df-container\">\n",
              "    <div>\n",
              "<style scoped>\n",
              "    .dataframe tbody tr th:only-of-type {\n",
              "        vertical-align: middle;\n",
              "    }\n",
              "\n",
              "    .dataframe tbody tr th {\n",
              "        vertical-align: top;\n",
              "    }\n",
              "\n",
              "    .dataframe thead th {\n",
              "        text-align: right;\n",
              "    }\n",
              "</style>\n",
              "<table border=\"1\" class=\"dataframe\">\n",
              "  <thead>\n",
              "    <tr style=\"text-align: right;\">\n",
              "      <th></th>\n",
              "      <th>team</th>\n",
              "      <th>leagueID</th>\n",
              "      <th>player</th>\n",
              "      <th>salary</th>\n",
              "      <th>position</th>\n",
              "      <th>gamesplayed</th>\n",
              "    </tr>\n",
              "  </thead>\n",
              "  <tbody>\n",
              "    <tr>\n",
              "      <th>1</th>\n",
              "      <td>ANA</td>\n",
              "      <td>AL</td>\n",
              "      <td>anderga0</td>\n",
              "      <td>6200000</td>\n",
              "      <td>CF</td>\n",
              "      <td>112</td>\n",
              "    </tr>\n",
              "    <tr>\n",
              "      <th>2</th>\n",
              "      <td>ANA</td>\n",
              "      <td>AL</td>\n",
              "      <td>colonba0</td>\n",
              "      <td>11000000</td>\n",
              "      <td>P</td>\n",
              "      <td>3</td>\n",
              "    </tr>\n",
              "    <tr>\n",
              "      <th>3</th>\n",
              "      <td>ANA</td>\n",
              "      <td>AL</td>\n",
              "      <td>davanje0</td>\n",
              "      <td>375000</td>\n",
              "      <td>CF</td>\n",
              "      <td>108</td>\n",
              "    </tr>\n",
              "    <tr>\n",
              "      <th>4</th>\n",
              "      <td>ANA</td>\n",
              "      <td>AL</td>\n",
              "      <td>donnebr0</td>\n",
              "      <td>375000</td>\n",
              "      <td>P</td>\n",
              "      <td>5</td>\n",
              "    </tr>\n",
              "    <tr>\n",
              "      <th>5</th>\n",
              "      <td>ANA</td>\n",
              "      <td>AL</td>\n",
              "      <td>eckstda0</td>\n",
              "      <td>2150000</td>\n",
              "      <td>SS</td>\n",
              "      <td>142</td>\n",
              "    </tr>\n",
              "  </tbody>\n",
              "</table>\n",
              "</div>\n",
              "    <div class=\"colab-df-buttons\">\n",
              "\n",
              "  <div class=\"colab-df-container\">\n",
              "    <button class=\"colab-df-convert\" onclick=\"convertToInteractive('df-c39f7d26-27c2-4345-94b2-0167dc449036')\"\n",
              "            title=\"Convert this dataframe to an interactive table.\"\n",
              "            style=\"display:none;\">\n",
              "\n",
              "  <svg xmlns=\"http://www.w3.org/2000/svg\" height=\"24px\" viewBox=\"0 -960 960 960\">\n",
              "    <path d=\"M120-120v-720h720v720H120Zm60-500h600v-160H180v160Zm220 220h160v-160H400v160Zm0 220h160v-160H400v160ZM180-400h160v-160H180v160Zm440 0h160v-160H620v160ZM180-180h160v-160H180v160Zm440 0h160v-160H620v160Z\"/>\n",
              "  </svg>\n",
              "    </button>\n",
              "\n",
              "  <style>\n",
              "    .colab-df-container {\n",
              "      display:flex;\n",
              "      gap: 12px;\n",
              "    }\n",
              "\n",
              "    .colab-df-convert {\n",
              "      background-color: #E8F0FE;\n",
              "      border: none;\n",
              "      border-radius: 50%;\n",
              "      cursor: pointer;\n",
              "      display: none;\n",
              "      fill: #1967D2;\n",
              "      height: 32px;\n",
              "      padding: 0 0 0 0;\n",
              "      width: 32px;\n",
              "    }\n",
              "\n",
              "    .colab-df-convert:hover {\n",
              "      background-color: #E2EBFA;\n",
              "      box-shadow: 0px 1px 2px rgba(60, 64, 67, 0.3), 0px 1px 3px 1px rgba(60, 64, 67, 0.15);\n",
              "      fill: #174EA6;\n",
              "    }\n",
              "\n",
              "    .colab-df-buttons div {\n",
              "      margin-bottom: 4px;\n",
              "    }\n",
              "\n",
              "    [theme=dark] .colab-df-convert {\n",
              "      background-color: #3B4455;\n",
              "      fill: #D2E3FC;\n",
              "    }\n",
              "\n",
              "    [theme=dark] .colab-df-convert:hover {\n",
              "      background-color: #434B5C;\n",
              "      box-shadow: 0px 1px 3px 1px rgba(0, 0, 0, 0.15);\n",
              "      filter: drop-shadow(0px 1px 2px rgba(0, 0, 0, 0.3));\n",
              "      fill: #FFFFFF;\n",
              "    }\n",
              "  </style>\n",
              "\n",
              "    <script>\n",
              "      const buttonEl =\n",
              "        document.querySelector('#df-c39f7d26-27c2-4345-94b2-0167dc449036 button.colab-df-convert');\n",
              "      buttonEl.style.display =\n",
              "        google.colab.kernel.accessAllowed ? 'block' : 'none';\n",
              "\n",
              "      async function convertToInteractive(key) {\n",
              "        const element = document.querySelector('#df-c39f7d26-27c2-4345-94b2-0167dc449036');\n",
              "        const dataTable =\n",
              "          await google.colab.kernel.invokeFunction('convertToInteractive',\n",
              "                                                    [key], {});\n",
              "        if (!dataTable) return;\n",
              "\n",
              "        const docLinkHtml = 'Like what you see? Visit the ' +\n",
              "          '<a target=\"_blank\" href=https://colab.research.google.com/notebooks/data_table.ipynb>data table notebook</a>'\n",
              "          + ' to learn more about interactive tables.';\n",
              "        element.innerHTML = '';\n",
              "        dataTable['output_type'] = 'display_data';\n",
              "        await google.colab.output.renderOutput(dataTable, element);\n",
              "        const docLink = document.createElement('div');\n",
              "        docLink.innerHTML = docLinkHtml;\n",
              "        element.appendChild(docLink);\n",
              "      }\n",
              "    </script>\n",
              "  </div>\n",
              "\n",
              "\n",
              "<div id=\"df-b58abfef-e8cc-449a-b66b-0f506213d727\">\n",
              "  <button class=\"colab-df-quickchart\" onclick=\"quickchart('df-b58abfef-e8cc-449a-b66b-0f506213d727')\"\n",
              "            title=\"Suggest charts\"\n",
              "            style=\"display:none;\">\n",
              "\n",
              "<svg xmlns=\"http://www.w3.org/2000/svg\" height=\"24px\"viewBox=\"0 0 24 24\"\n",
              "     width=\"24px\">\n",
              "    <g>\n",
              "        <path d=\"M19 3H5c-1.1 0-2 .9-2 2v14c0 1.1.9 2 2 2h14c1.1 0 2-.9 2-2V5c0-1.1-.9-2-2-2zM9 17H7v-7h2v7zm4 0h-2V7h2v10zm4 0h-2v-4h2v4z\"/>\n",
              "    </g>\n",
              "</svg>\n",
              "  </button>\n",
              "\n",
              "<style>\n",
              "  .colab-df-quickchart {\n",
              "      --bg-color: #E8F0FE;\n",
              "      --fill-color: #1967D2;\n",
              "      --hover-bg-color: #E2EBFA;\n",
              "      --hover-fill-color: #174EA6;\n",
              "      --disabled-fill-color: #AAA;\n",
              "      --disabled-bg-color: #DDD;\n",
              "  }\n",
              "\n",
              "  [theme=dark] .colab-df-quickchart {\n",
              "      --bg-color: #3B4455;\n",
              "      --fill-color: #D2E3FC;\n",
              "      --hover-bg-color: #434B5C;\n",
              "      --hover-fill-color: #FFFFFF;\n",
              "      --disabled-bg-color: #3B4455;\n",
              "      --disabled-fill-color: #666;\n",
              "  }\n",
              "\n",
              "  .colab-df-quickchart {\n",
              "    background-color: var(--bg-color);\n",
              "    border: none;\n",
              "    border-radius: 50%;\n",
              "    cursor: pointer;\n",
              "    display: none;\n",
              "    fill: var(--fill-color);\n",
              "    height: 32px;\n",
              "    padding: 0;\n",
              "    width: 32px;\n",
              "  }\n",
              "\n",
              "  .colab-df-quickchart:hover {\n",
              "    background-color: var(--hover-bg-color);\n",
              "    box-shadow: 0 1px 2px rgba(60, 64, 67, 0.3), 0 1px 3px 1px rgba(60, 64, 67, 0.15);\n",
              "    fill: var(--button-hover-fill-color);\n",
              "  }\n",
              "\n",
              "  .colab-df-quickchart-complete:disabled,\n",
              "  .colab-df-quickchart-complete:disabled:hover {\n",
              "    background-color: var(--disabled-bg-color);\n",
              "    fill: var(--disabled-fill-color);\n",
              "    box-shadow: none;\n",
              "  }\n",
              "\n",
              "  .colab-df-spinner {\n",
              "    border: 2px solid var(--fill-color);\n",
              "    border-color: transparent;\n",
              "    border-bottom-color: var(--fill-color);\n",
              "    animation:\n",
              "      spin 1s steps(1) infinite;\n",
              "  }\n",
              "\n",
              "  @keyframes spin {\n",
              "    0% {\n",
              "      border-color: transparent;\n",
              "      border-bottom-color: var(--fill-color);\n",
              "      border-left-color: var(--fill-color);\n",
              "    }\n",
              "    20% {\n",
              "      border-color: transparent;\n",
              "      border-left-color: var(--fill-color);\n",
              "      border-top-color: var(--fill-color);\n",
              "    }\n",
              "    30% {\n",
              "      border-color: transparent;\n",
              "      border-left-color: var(--fill-color);\n",
              "      border-top-color: var(--fill-color);\n",
              "      border-right-color: var(--fill-color);\n",
              "    }\n",
              "    40% {\n",
              "      border-color: transparent;\n",
              "      border-right-color: var(--fill-color);\n",
              "      border-top-color: var(--fill-color);\n",
              "    }\n",
              "    60% {\n",
              "      border-color: transparent;\n",
              "      border-right-color: var(--fill-color);\n",
              "    }\n",
              "    80% {\n",
              "      border-color: transparent;\n",
              "      border-right-color: var(--fill-color);\n",
              "      border-bottom-color: var(--fill-color);\n",
              "    }\n",
              "    90% {\n",
              "      border-color: transparent;\n",
              "      border-bottom-color: var(--fill-color);\n",
              "    }\n",
              "  }\n",
              "</style>\n",
              "\n",
              "  <script>\n",
              "    async function quickchart(key) {\n",
              "      const quickchartButtonEl =\n",
              "        document.querySelector('#' + key + ' button');\n",
              "      quickchartButtonEl.disabled = true;  // To prevent multiple clicks.\n",
              "      quickchartButtonEl.classList.add('colab-df-spinner');\n",
              "      try {\n",
              "        const charts = await google.colab.kernel.invokeFunction(\n",
              "            'suggestCharts', [key], {});\n",
              "      } catch (error) {\n",
              "        console.error('Error during call to suggestCharts:', error);\n",
              "      }\n",
              "      quickchartButtonEl.classList.remove('colab-df-spinner');\n",
              "      quickchartButtonEl.classList.add('colab-df-quickchart-complete');\n",
              "    }\n",
              "    (() => {\n",
              "      let quickchartButtonEl =\n",
              "        document.querySelector('#df-b58abfef-e8cc-449a-b66b-0f506213d727 button');\n",
              "      quickchartButtonEl.style.display =\n",
              "        google.colab.kernel.accessAllowed ? 'block' : 'none';\n",
              "    })();\n",
              "  </script>\n",
              "</div>\n",
              "\n",
              "    </div>\n",
              "  </div>\n"
            ],
            "application/vnd.google.colaboratory.intrinsic+json": {
              "type": "dataframe",
              "variable_name": "baseball_salaries",
              "summary": "{\n  \"name\": \"baseball_salaries\",\n  \"rows\": 797,\n  \"fields\": [\n    {\n      \"column\": \"team\",\n      \"properties\": {\n        \"dtype\": \"category\",\n        \"num_unique_values\": 30,\n        \"samples\": [\n          \"TBA\",\n          \"MIL\",\n          \"SDN\"\n        ],\n        \"semantic_type\": \"\",\n        \"description\": \"\"\n      }\n    },\n    {\n      \"column\": \"leagueID\",\n      \"properties\": {\n        \"dtype\": \"category\",\n        \"num_unique_values\": 2,\n        \"samples\": [\n          \"NL\",\n          \"AL\"\n        ],\n        \"semantic_type\": \"\",\n        \"description\": \"\"\n      }\n    },\n    {\n      \"column\": \"player\",\n      \"properties\": {\n        \"dtype\": \"string\",\n        \"num_unique_values\": 791,\n        \"samples\": [\n          \"heltoto0\",\n          \"hillesh0\"\n        ],\n        \"semantic_type\": \"\",\n        \"description\": \"\"\n      }\n    },\n    {\n      \"column\": \"salary\",\n      \"properties\": {\n        \"dtype\": \"number\",\n        \"std\": 3535924,\n        \"min\": 300000,\n        \"max\": 22500000,\n        \"num_unique_values\": 285,\n        \"samples\": [\n          2200000,\n          342000\n        ],\n        \"semantic_type\": \"\",\n        \"description\": \"\"\n      }\n    },\n    {\n      \"column\": \"position\",\n      \"properties\": {\n        \"dtype\": \"category\",\n        \"num_unique_values\": 9,\n        \"samples\": [\n          \"2B\",\n          \"P\"\n        ],\n        \"semantic_type\": \"\",\n        \"description\": \"\"\n      }\n    },\n    {\n      \"column\": \"gamesplayed\",\n      \"properties\": {\n        \"dtype\": \"number\",\n        \"std\": 53,\n        \"min\": 1,\n        \"max\": 162,\n        \"num_unique_values\": 157,\n        \"samples\": [\n          39,\n          143\n        ],\n        \"semantic_type\": \"\",\n        \"description\": \"\"\n      }\n    }\n  ]\n}"
            }
          },
          "metadata": {},
          "execution_count": 6
        }
      ],
      "source": [
        "#First few rows\n",
        "baseball_salaries.head()"
      ]
    },
    {
      "cell_type": "markdown",
      "metadata": {
        "id": "3PeR5glDr58G"
      },
      "source": [
        "### Task\n",
        "\n",
        "Our goal is to take samples from the salary data and build a distribution of these sample means.  To begin, draw a histogram of the salaries.  Note the skew and lack of normality in this distribution.    "
      ]
    },
    {
      "cell_type": "code",
      "execution_count": 7,
      "metadata": {
        "id": "jQ6kQ_grr58H"
      },
      "outputs": [],
      "source": [
        "#histogram of the salaries\n"
      ]
    },
    {
      "cell_type": "markdown",
      "metadata": {
        "id": "b_qqYNVir58H"
      },
      "source": [
        "### Taking Samples\n",
        "\n",
        "Pandas DataFrame has built-in methods for taking random samples with replacement.  The `.sample()` method is demonstrated below."
      ]
    },
    {
      "cell_type": "code",
      "execution_count": 8,
      "metadata": {
        "colab": {
          "base_uri": "https://localhost:8080/",
          "height": 209
        },
        "id": "ebG3mSqQr58H",
        "outputId": "a9cbe3fb-66be-4bf8-f492-78806082e6c1"
      },
      "outputs": [
        {
          "output_type": "execute_result",
          "data": {
            "text/plain": [
              "193     445000\n",
              "519     318000\n",
              "226     315000\n",
              "672    1000000\n",
              "Name: salary, dtype: int64"
            ],
            "text/html": [
              "<div>\n",
              "<style scoped>\n",
              "    .dataframe tbody tr th:only-of-type {\n",
              "        vertical-align: middle;\n",
              "    }\n",
              "\n",
              "    .dataframe tbody tr th {\n",
              "        vertical-align: top;\n",
              "    }\n",
              "\n",
              "    .dataframe thead th {\n",
              "        text-align: right;\n",
              "    }\n",
              "</style>\n",
              "<table border=\"1\" class=\"dataframe\">\n",
              "  <thead>\n",
              "    <tr style=\"text-align: right;\">\n",
              "      <th></th>\n",
              "      <th>salary</th>\n",
              "    </tr>\n",
              "  </thead>\n",
              "  <tbody>\n",
              "    <tr>\n",
              "      <th>193</th>\n",
              "      <td>445000</td>\n",
              "    </tr>\n",
              "    <tr>\n",
              "      <th>519</th>\n",
              "      <td>318000</td>\n",
              "    </tr>\n",
              "    <tr>\n",
              "      <th>226</th>\n",
              "      <td>315000</td>\n",
              "    </tr>\n",
              "    <tr>\n",
              "      <th>672</th>\n",
              "      <td>1000000</td>\n",
              "    </tr>\n",
              "  </tbody>\n",
              "</table>\n",
              "</div><br><label><b>dtype:</b> int64</label>"
            ]
          },
          "metadata": {},
          "execution_count": 8
        }
      ],
      "source": [
        "baseball_salaries['salary'].sample(4)"
      ]
    },
    {
      "cell_type": "markdown",
      "metadata": {
        "id": "UlBOVLyDr58H"
      },
      "source": [
        "### Sample Means\n",
        "\n",
        "Now, use this method to repeatedly take samples and build a list of sample means.  As a starting place let us take 1000 samples of size 5 and draw the histogram of the sample means.  What is the mean and standard deviation?"
      ]
    },
    {
      "cell_type": "code",
      "source": [
        "sample_means = []\n",
        "kkmean=np.mean(baseball_salaries['salary'].sample(5))\n",
        "print(kkmean)"
      ],
      "metadata": {
        "colab": {
          "base_uri": "https://localhost:8080/"
        },
        "id": "S77CoEjOxLhT",
        "outputId": "8315b438-f402-4f3c-e75e-931bd296c9ed"
      },
      "execution_count": 9,
      "outputs": [
        {
          "output_type": "stream",
          "name": "stdout",
          "text": [
            "5746500.0\n"
          ]
        }
      ]
    },
    {
      "cell_type": "code",
      "execution_count": 10,
      "metadata": {
        "colab": {
          "base_uri": "https://localhost:8080/",
          "height": 535
        },
        "id": "u5MPMspLr58H",
        "outputId": "1939fb4d-c2ea-4ce2-e6e3-2ed4d65a386c"
      },
      "outputs": [
        {
          "output_type": "stream",
          "name": "stdout",
          "text": [
            "[1284000.0, 1053000.0, 4024200.0, 2245200.0, 1193200.0, 2815166.6, 6205000.0, 7537857.2, 4354666.8, 3573900.0, 3648000.0, 2566950.0, 2343500.0, 3438095.2, 1905500.0, 2665000.0, 2617500.0, 922000.0, 1086576.6, 1114000.0, 2745000.0, 3194121.6, 5717300.0, 1837000.0, 1730000.0, 3877400.0, 1124000.0, 1775000.0, 3400700.0, 4008200.0, 330880.0, 1110000.0, 723700.0, 662480.0, 1102000.0, 6247510.0, 3190600.0, 2270600.0, 1502000.0, 1588400.0, 5268300.0, 1295000.0, 6254000.0, 1004000.0, 1985700.0, 3451000.0, 1745000.0, 2249885.8, 2923000.0, 3035600.0, 880600.0, 3299200.0, 395440.0, 3126000.0, 2910000.0, 1576766.6, 1266900.0, 4112733.4, 1033000.0, 2180000.0, 1687000.0, 2322000.0, 871500.0, 4808200.0, 1365333.4, 1174000.0, 359380.0, 2398940.0, 930000.0, 696000.0, 5610000.0, 950040.0, 1793300.0, 1353033.4, 1550200.0, 2546000.0, 665250.0, 670000.0, 3953333.4, 1850000.0, 979100.0, 1515000.0, 1608100.0, 1185280.0, 4400000.0, 2302000.0, 2565000.0, 3918333.4, 1383500.0, 2540000.0, 2725500.0, 1085000.0, 4214000.0, 4590085.8, 2087500.0, 504000.0, 2225600.0, 1064000.0, 1933000.0, 955400.0, 2690200.0, 1783260.0, 2096900.0, 3993080.0, 2198500.0, 3410200.0, 316460.0, 5768000.0, 3438500.0, 3934657.2, 2604500.0, 1823000.0, 3111300.0, 1151000.0, 3740940.0, 4353000.0, 1842000.0, 2262400.0, 4266200.0, 891840.0, 4594110.0, 4020200.0, 664200.0, 1281733.4, 4295666.6, 5210000.0, 4102000.0, 5661333.4, 3758700.0, 2963333.4, 3528500.0, 3574666.6, 1038000.0, 1391900.0, 1572300.0, 1466666.6, 2307333.4, 2890000.0, 3632500.0, 1691000.0, 724540.0, 2125000.0, 2504200.0, 3724000.0, 1444200.0, 1279600.0, 3155200.0, 3370000.0, 1907750.0, 3200200.0, 1393000.0, 420000.0, 5535400.0, 2435400.0, 7694400.0, 1612500.0, 2263333.4, 3263000.0, 1770000.0, 4112000.0, 3355366.6, 4685000.0, 775300.0, 665500.0, 5279266.8, 837300.0, 935000.0, 779400.0, 6008485.8, 960266.6, 5720000.0, 1887000.0, 2190485.8, 5293333.4, 415500.0, 3620000.0, 3830000.0, 1062500.0, 1917066.6, 2509333.4, 3896666.6, 2177000.0, 1196000.0, 1379273.4, 3570500.0, 4084200.0, 5753333.4, 4439200.0, 3064400.0, 2315360.0, 468700.0, 1359000.0, 1063000.0, 4466500.0, 3425000.0, 3998000.0, 1574120.0, 5046200.0, 1850000.0, 2496500.0, 613000.0, 3894833.4, 4829000.0, 1657300.0, 2415000.0, 3734228.6, 5023200.0, 430600.0, 866900.0, 2010600.0, 2285500.0, 833000.0, 1616400.0, 2301500.0, 1452900.0, 4937500.0, 2184900.0, 1950000.0, 2930000.0, 3798000.0, 1132500.0, 2985714.2, 4540266.6, 2427000.0, 853000.0, 4630500.0, 1777000.0, 1341000.0, 4605000.0, 822000.0, 4775700.0, 3138000.0, 2348500.0, 2537500.0, 2940000.0, 4205820.0, 4795500.0, 1051040.0, 963500.0, 943500.0, 7435750.0, 4857200.0, 3870000.0, 441600.0, 2273400.0, 3805600.0, 1560333.4, 1917000.0, 760500.0, 4743000.0, 6178928.6, 1201000.0, 3911000.0, 5401552.4, 3657285.8, 1930000.0, 410400.0, 4510000.0, 2090000.0, 1995500.0, 1901000.0, 3475000.0, 1224500.0, 1228880.0, 4479000.0, 3465808.4, 2647000.0, 3515333.4, 2287000.0, 2011720.0, 3592700.0, 2230000.0, 7196666.6, 5510000.0, 3461000.0, 2665000.0, 2521580.0, 8477047.6, 2886666.6, 2330000.0, 1767000.0, 855700.0, 4088720.0, 1730000.0, 1658800.0, 2757405.8, 463050.0, 3200000.0, 4970000.0, 2105000.0, 2541000.0, 2631000.0, 310300.0, 8710000.0, 2335000.0, 1940000.0, 5073666.6, 1662000.0, 2334666.6, 3678000.0, 3275000.0, 2539533.4, 811000.0, 2651500.0, 9485000.0, 1420000.0, 2550000.0, 922450.0, 1829000.0, 1131000.0, 1498710.0, 372400.0, 4748400.0, 2878000.0, 2759100.0, 2378100.0, 3580000.0, 4161100.0, 2091800.0, 6243500.0, 2536040.0, 3683000.0, 1649666.6, 4525000.0, 1985000.0, 2130640.0, 5158000.0, 987000.0, 2742000.0, 1245000.0, 314080.0, 3154500.0, 3680000.0, 1401200.0, 360500.0, 2404300.0, 670360.0, 1857100.0, 2012000.0, 2984300.0, 2767500.0, 1616000.0, 2594500.0, 2749400.0, 1646500.0, 6846666.6, 1678000.0, 2170500.0, 1471800.0, 930200.0, 4520100.0, 1299366.6, 377750.0, 5938785.8, 6287166.6, 1341200.0, 873500.0, 1259700.0, 4521000.0, 1506500.0, 2960000.0, 884000.0, 1517000.0, 492500.0, 461800.0, 1883000.0, 3290166.6, 1142600.0, 409000.0, 1345360.0, 2047500.0, 2673000.0, 598000.0, 1581300.0, 1199700.0, 2267000.0, 3898333.4, 4265714.2, 997000.0, 580040.0, 585480.0, 593500.0, 4302166.6, 952600.0, 1452000.0, 3447000.0, 1506840.0, 2542400.0, 1587000.0, 2189200.0, 958300.0, 4612400.0, 925000.0, 2196666.6, 1934000.0, 5643333.4, 2149100.0, 4620000.0, 4266666.6, 5573333.4, 862500.0, 4180000.0, 2085000.0, 1794200.0, 1021000.0, 1186000.0, 1040940.0, 1254833.4, 1264000.0, 1046000.0, 1575240.0, 3667500.0, 1243000.0, 1848500.0, 2980000.0, 3426600.0, 5311500.0, 4128000.0, 4390000.0, 4936000.0, 1507940.0, 1460600.0, 4540000.0, 2524000.0, 4095000.0, 3639833.4, 659500.0, 1158120.0, 1459330.0, 1077300.0, 2143000.0, 2506500.0, 911000.0, 1185000.0, 3953500.0, 1613260.0, 442400.0, 3763333.4, 1488200.0, 5149120.0, 3945900.0, 2401500.0, 1525000.0, 1881333.4, 4802500.0, 2445000.0, 4548600.0, 4368600.0, 3270000.0, 4180300.0, 2270000.0, 1488000.0, 2847933.4, 5533857.2, 1795000.0, 2282400.0, 2965000.0, 4822521.6, 1006000.0, 2101000.0, 4192700.0, 2650000.0, 1782500.0, 1534000.0, 954600.0, 4288333.4, 1449050.0, 1042000.0, 1037400.0, 2750900.0, 2342900.0, 2625200.0, 1275633.4, 1645000.0, 2959000.0, 4216600.0, 4248000.0, 5131500.0, 727000.0, 4143000.0, 4983333.4, 4145600.0, 2860000.0, 2697000.0, 1654800.0, 3137000.0, 2246800.0, 2268750.0, 1830400.0, 2301000.0, 4239785.8, 1284000.0, 1582300.0, 701500.0, 2249500.0, 1791360.0, 754700.0, 2173000.0, 4197500.0, 2050250.0, 2699000.0, 4286500.0, 2510000.0, 3255120.0, 1167833.4, 1639733.4, 2378000.0, 1201500.0, 2587000.0, 956700.0, 6481500.0, 758000.0, 6025000.0, 2082000.0, 1265360.0, 522900.0, 1106500.0, 532500.0, 1420000.0, 6290666.6, 1408500.0, 727500.0, 5862000.0, 5938000.0, 3996428.6, 2334946.6, 3581200.0, 948400.0, 3167500.0, 4516733.4, 624480.0, 1994000.0, 2538000.0, 2365600.0, 1570000.0, 4984400.0, 4330600.0, 385500.0, 1863500.0, 3835000.0, 968000.0, 1222000.0, 1449200.0, 393200.0, 4764000.0, 3104000.0, 3108500.0, 664850.0, 3322100.0, 5618000.0, 360200.0, 2822000.0, 1784000.0, 1701300.0, 876000.0, 859000.0, 2205666.6, 4356500.0, 2018533.4, 4878000.0, 5960000.0, 1894000.0, 1436400.0, 4230000.0, 903200.0, 3104700.0, 1481700.0, 1967200.0, 788500.0, 2211000.0, 3890000.0, 505000.0, 1085600.0, 3726000.0, 1791500.0, 4873257.2, 1301000.0, 7600000.0, 1581866.6, 6930000.0, 1310000.0, 2252300.0, 3375000.0, 860000.0, 4156666.6, 4214666.6, 1191473.4, 3348333.4, 3802700.0, 2653500.0, 2105000.0, 4206820.0, 2189500.0, 802100.0, 4967300.0, 3420500.0, 2598666.6, 4525000.0, 3234500.0, 5382285.8, 3389500.0, 2490000.0, 5056933.4, 2604000.0, 3258000.0, 2875000.0, 3546000.0, 5280000.0, 1436500.0, 1031000.0, 1824000.0, 10246666.6, 1510000.0, 1710000.0, 5854933.4, 2748414.2, 5901000.0, 2783666.6, 3522133.4, 1660000.0, 1700000.0, 4375000.0, 2405400.0, 2028000.0, 1691800.0, 1236000.0, 448000.0, 1186480.0, 4884666.6, 2454533.4, 1480100.0, 2755400.0, 900000.0, 2873000.0, 2313500.0, 3729833.4, 949200.0, 2186000.0, 903000.0, 2120000.0, 4080000.0, 2044500.0, 2281000.0, 2009100.0, 1266200.0, 3281800.0, 1918820.0, 1333880.0, 881500.0, 1916600.0, 1340510.0, 4691500.0, 673480.0, 637400.0, 3471600.0, 655400.0, 1591146.6, 5708980.0, 5944083.4, 2003333.4, 2923333.4, 2695000.0, 440500.0, 1773200.0, 2015280.0, 5421000.0, 5420000.0, 1342000.0, 893080.0, 1230000.0, 5335000.0, 1010333.4, 1244500.0, 2002000.0, 5025285.8, 639000.0, 1623000.0, 1259166.6, 2015120.0, 3245750.0, 1843000.0, 1244300.0, 2218600.0, 7067266.6, 1313000.0, 2090000.0, 1406000.0, 3492900.0, 1585000.0, 1449900.0, 2310000.0, 1865000.0, 1432000.0, 1360500.0, 3444440.0, 5868333.4, 2814666.6, 1445340.0, 3788000.0, 448000.0, 824180.0, 1781066.6, 4695000.0, 493500.0, 4935800.0, 1937800.0, 692500.0, 1562500.0, 1578000.0, 2410500.0, 1468000.0, 1446680.0, 1077900.0, 1017500.0, 1933000.0, 3432228.6, 4770000.0, 1296000.0, 795500.0, 668000.0, 1629000.0, 948200.0, 857500.0, 1561000.0, 2820000.0, 4766900.0, 4868621.6, 976500.0, 5256333.4, 1879000.0, 1216880.0, 3186000.0, 2966000.0, 757250.0, 1210120.0, 3510400.0, 1827300.0, 3509710.0, 1616173.4, 1276666.6, 1833000.0, 2448633.4, 3312280.0, 1462440.0, 2724500.0, 3207633.4, 2153500.0, 1125300.0, 1324000.0, 5785600.0, 3517000.0, 3072000.0, 1899800.0, 4532333.4, 2077000.0, 1138500.0, 3915000.0, 4663333.4, 728000.0, 3984533.4, 2206600.0, 971000.0, 6145600.0, 2774000.0, 596680.0, 5530914.2, 2036500.0, 1483000.0, 2365600.0, 4002000.0, 5120000.0, 2626000.0, 394200.0, 2693000.0, 1989100.0, 817000.0, 1815000.0, 4041000.0, 2387300.0, 1380500.0, 2403600.0, 3369000.0, 8508333.4, 2384500.0, 2420000.0, 3535500.0, 1784500.0, 5715666.6, 2297500.0, 1331000.0, 4214300.0, 2425500.0, 1707000.0, 5213733.4, 761300.0, 2641666.6, 6887500.0, 2514880.0, 780480.0, 4068800.0, 4642500.0, 916500.0, 511000.0, 1084500.0, 910000.0, 3124300.0, 742200.0, 2057200.0, 2368000.0, 1111000.0, 1890000.0, 3827940.0, 370300.0, 4708619.2, 339300.0, 4422000.0, 6220000.0, 5708000.0, 1401900.0, 3016666.6, 3002620.0, 562000.0, 3630000.0, 2377000.0, 1254880.0, 2194000.0, 4771875.0, 4690000.0, 3892700.0, 6169500.0, 3125000.0, 2432875.0, 2071666.6, 1318500.0, 549480.0, 775540.0, 6684952.4, 2653333.4, 3368280.0, 2135966.6, 4569000.0, 4648333.4, 366000.0, 1050000.0, 2837500.0, 987900.0, 3027833.4, 2357000.0, 492400.0, 4162333.4, 1831500.0, 2524200.0, 3991400.0, 2479000.0, 1596000.0, 795940.0, 3122000.0, 2354783.4, 635000.0, 2213800.0, 3789280.0, 2456000.0, 5003120.0, 1700006.6, 782600.0, 5797143.0, 6934333.4, 2417000.0, 4343600.0, 1537500.0, 5099360.0, 4181433.4, 1036000.0, 2625000.0, 4325714.2, 2371400.0, 1790000.0, 3100940.0, 4827000.0, 1552000.0, 1366500.0, 1189300.0, 3356000.0, 2970000.0, 1058000.0, 977000.0, 2171000.0, 877500.0, 1130000.0, 1434000.0, 4743121.6, 6929200.0, 4577533.4, 1447280.0, 2748000.0, 3393500.0, 696375.0, 1410000.0, 2790000.0, 1780500.0, 2143786.6, 3611300.0, 2291866.6, 1532000.0, 1047500.0, 1654400.0, 1970000.0, 3593333.4, 3731000.0, 2237100.0, 4498121.6, 712275.0, 1845940.0, 2876500.0, 4502200.0, 1092500.0, 6754285.8, 2750000.0, 2090000.0, 1505100.0, 850000.0, 1069000.0, 3762500.0, 4096333.4, 3270000.0, 1602730.0, 3204485.8, 1457500.0, 3366000.0, 1160000.0, 816000.0, 2661833.4, 650000.0, 1000200.0, 2641000.0, 4743333.4, 3293333.4, 1120300.0, 348940.0, 8470366.6, 2125200.0, 4521666.6, 481020.0, 3351400.0, 1750000.0, 2779500.0, 2327000.0, 1927766.6, 3980800.0, 7227500.0, 3864480.0, 1078000.0, 5120000.0, 1448100.0, 2310666.6, 1341000.0, 1141000.0, 2151000.0, 460500.0, 454900.0, 3848500.0, 1273500.0, 2671833.4, 2026280.0, 6130000.0, 2341500.0, 374900.0, 545800.0, 3532000.0, 955000.0, 3801000.0, 1012000.0, 520000.0, 5106000.0, 482500.0, 1192000.0, 4098000.0, 1233900.0, 10397400.0, 1814000.0, 1745000.0, 1481500.0, 3435000.0, 1581200.0, 1511700.0, 2819500.0, 1526000.0, 3184833.2, 2080200.0, 1198800.0, 1418000.0, 1235400.0, 1334000.0, 2535000.0, 1813400.0, 1735640.0, 901800.0, 4619000.0, 4028483.4, 785000.0]\n",
            "2594242.698\n",
            "1645894.3357248688\n"
          ]
        },
        {
          "output_type": "display_data",
          "data": {
            "text/plain": [
              "<Figure size 640x480 with 1 Axes>"
            ],
            "image/png": "[encoded data removed]"
          },
          "metadata": {}
        }
      ],
      "source": [
        "#empty list for sample means\n",
        "sample_means = []\n",
        "for i in range(1000):\n",
        "    #your code below\n",
        "    kkmean=np.mean(baseball_salaries['salary'].sample(5))\n",
        "    sample_means.append(kkmean)\n",
        "    pass\n",
        "print(sample_means)\n",
        "plt.hist(sample_means, density=True, alpha = 0.2, bins = 10, edgecolor = 'black', label = 'sample')\n",
        "print(np.mean(sample_means))\n",
        "print(np.std(sample_means))"
      ]
    },
    {
      "cell_type": "code",
      "execution_count": 19,
      "metadata": {
        "colab": {
          "base_uri": "https://localhost:8080/",
          "height": 463
        },
        "id": "JBaXJb6qr58H",
        "outputId": "f10ba386-be57-4913-9063-8e964c438606"
      },
      "outputs": [
        {
          "output_type": "display_data",
          "data": {
            "text/plain": [
              "<Figure size 640x480 with 1 Axes>"
            ],
            "image/png": "[encoded data removed]"
          },
          "metadata": {}
        }
      ],
      "source": [
        "#histogram of sample means\n",
        "\n",
        "values = [5, 10, 25, 50, 100]\n",
        "fig, ax = plt.subplots()\n",
        "\n",
        "for j in values:\n",
        "  sample_means = []\n",
        "  for i in range(1000):\n",
        "      #your code below\n",
        "      kkmean=np.mean(baseball_salaries['salary'].sample(j))\n",
        "      sample_means.append(kkmean)\n",
        "      pass\n",
        "  ax.hist(sample_means, density=True, alpha = 0.7, bins = 8, edgecolor = 'black', label = 'sample size-'+ str(j))\n",
        "  ax.legend()\n",
        "plt.show()\n",
        "############################################################################\n",
        "# Generate some data\n",
        "#data1 = np.random.normal(0, 1, 1000)\n",
        "#data2 = np.random.normal(2, 1, 1000)\n",
        "#data3 = np.random.normal(-2, 1, 1000)\n",
        "\n",
        "# Create a figure and axes\n",
        "#fig, ax = plt.subplots()\n",
        "\n",
        "# Plot the histograms\n",
        "#ax.hist(data1, bins=30, alpha=0.5, label='Sample Size=5')\n",
        "#ax.hist(data2, bins=30, alpha=0.5, label='Sample Size=10')\n",
        "#ax.hist(data3, bins=30, alpha=0.5, label='Sample Size=25')\n",
        "\n",
        "# Add a legend\n",
        "#ax.legend()\n",
        "\n",
        "# Show the plot\n",
        "#plt.show()\n"
      ]
    },
    {
      "cell_type": "markdown",
      "metadata": {
        "id": "anVBKf75r58H"
      },
      "source": [
        "Repeat the above exercise with samples of size:\n",
        "\n",
        "- 10\n",
        "- 25\n",
        "- 50\n",
        "- 100\n",
        "\n",
        "Your discussion post should explain how the distribution of these sample means changes as the sample size changes, and how the mean and standard deviation of the distributions change."
      ]
    }
  ],
  "metadata": {
    "kernelspec": {
      "display_name": "Python 3",
      "language": "python",
      "name": "python3"
    },
    "language_info": {
      "codemirror_mode": {
        "name": "ipython",
        "version": 3
      },
      "file_extension": ".py",
      "mimetype": "text/x-python",
      "name": "python",
      "nbconvert_exporter": "python",
      "pygments_lexer": "ipython3",
      "version": "3.8.8"
    },
    "colab": {
      "provenance": [],
      "include_colab_link": true
    }
  },
  "nbformat": 4,
  "nbformat_minor": 0
}