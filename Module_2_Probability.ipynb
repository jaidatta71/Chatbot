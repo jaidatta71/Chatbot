{
  "nbformat": 4,
  "nbformat_minor": 0,
  "metadata": {
    "colab": {
      "provenance": [],
      "include_colab_link": true
    },
    "kernelspec": {
      "name": "python3",
      "display_name": "Python 3"
    },
    "language_info": {
      "name": "python"
    }
  },
  "cells": [
    {
      "cell_type": "markdown",
      "metadata": {
        "id": "view-in-github",
        "colab_type": "text"
      },
      "source": [
        "<a href=\"https://colab.research.google.com/github/jaidatta71/Chatbot/blob/main/Module_2_Probability.ipynb\" target=\"_parent\"><img src=\"https://colab.research.google.com/assets/colab-badge.svg\" alt=\"Open In Colab\"/></a>"
      ]
    },
    {
      "cell_type": "code",
      "source": [
        "# from google.colab import drive\n",
        "# drive.flush_and_unmount()"
      ],
      "metadata": {
        "id": "OK7c6XAgmVI0"
      },
      "execution_count": null,
      "outputs": []
    },
    {
      "cell_type": "code",
      "execution_count": null,
      "metadata": {
        "colab": {
          "base_uri": "https://localhost:8080/"
        },
        "id": "L2VS5ALPVkkB",
        "outputId": "9de4a116-3664-4cbb-e388-8caba478b1a9"
      },
      "outputs": [
        {
          "output_type": "stream",
          "name": "stdout",
          "text": [
            "Requirement already satisfied: pandas in /usr/local/lib/python3.10/dist-packages (2.2.2)\n",
            "Requirement already satisfied: numpy>=1.22.4 in /usr/local/lib/python3.10/dist-packages (from pandas) (1.26.4)\n",
            "Requirement already satisfied: python-dateutil>=2.8.2 in /usr/local/lib/python3.10/dist-packages (from pandas) (2.8.2)\n",
            "Requirement already satisfied: pytz>=2020.1 in /usr/local/lib/python3.10/dist-packages (from pandas) (2024.2)\n",
            "Requirement already satisfied: tzdata>=2022.7 in /usr/local/lib/python3.10/dist-packages (from pandas) (2024.2)\n",
            "Requirement already satisfied: six>=1.5 in /usr/local/lib/python3.10/dist-packages (from python-dateutil>=2.8.2->pandas) (1.16.0)\n"
          ]
        }
      ],
      "source": [
        "pip install pandas"
      ]
    },
    {
      "cell_type": "markdown",
      "source": [
        "To load the loan50 dataset into a pandas DataFrame in Google Colab, you'll first need to upload the dataset to your Colab environment. Here's a step-by-step guide to do that:\n",
        "\n",
        "Upload the File to Google Colab:\n",
        "\n",
        "Open your Google Colab notebook.\n",
        "Click on the folder icon on the left sidebar to open the Files tab.\n",
        "Click on \"Upload\" and select the loan50.csv file from your computer (.../loan50.csv).\n",
        "Load the Data using Pandas:\n",
        "\n",
        "Once the file is uploaded, you can load it into a DataFrame using pandas. Here's the code you can use in a cell in your Google Colab notebook:"
      ],
      "metadata": {
        "id": "X-YG7U9CW94p"
      }
    },
    {
      "cell_type": "code",
      "source": [
        "import pandas as pd\n",
        "\n",
        "# Load the data into a DataFrame\n",
        "loan_data = pd.read_csv('sample_data/loans_full_schema.csv')\n",
        "\n",
        "# Display the first few rows of the DataFrame\n",
        "loan_data.head()\n"
      ],
      "metadata": {
        "colab": {
          "base_uri": "https://localhost:8080/",
          "height": 342
        },
        "id": "8VKqKTx5WkmG",
        "outputId": "85228cea-78fd-4e87-a7fb-78a2ea8b8482"
      },
      "execution_count": null,
      "outputs": [
        {
          "output_type": "execute_result",
          "data": {
            "text/plain": [
              "   rownames                emp_title  emp_length state homeownership  \\\n",
              "0         1  global config engineer          3.0    NJ      MORTGAGE   \n",
              "1         2   warehouse office clerk        10.0    HI          RENT   \n",
              "2         3                 assembly         3.0    WI          RENT   \n",
              "3         4         customer service         1.0    PA          RENT   \n",
              "4         5     security supervisor         10.0    CA          RENT   \n",
              "\n",
              "   annual_income  verified_income  debt_to_income  annual_income_joint  \\\n",
              "0        90000.0         Verified           18.01                  NaN   \n",
              "1        40000.0     Not Verified            5.04                  NaN   \n",
              "2        40000.0  Source Verified           21.15                  NaN   \n",
              "3        30000.0     Not Verified           10.16                  NaN   \n",
              "4        35000.0         Verified           57.96              57000.0   \n",
              "\n",
              "  verification_income_joint  ...  sub_grade  issue_month  loan_status  \\\n",
              "0                       NaN  ...         C3     Mar-2018      Current   \n",
              "1                       NaN  ...         C1     Feb-2018      Current   \n",
              "2                       NaN  ...         D1     Feb-2018      Current   \n",
              "3                       NaN  ...         A3     Jan-2018      Current   \n",
              "4                  Verified  ...         C3     Mar-2018      Current   \n",
              "\n",
              "   initial_listing_status  disbursement_method   balance  paid_total  \\\n",
              "0                   whole                 Cash  27015.86     1999.33   \n",
              "1                   whole                 Cash   4651.37      499.12   \n",
              "2              fractional                 Cash   1824.63      281.80   \n",
              "3                   whole                 Cash  18853.26     3312.89   \n",
              "4                   whole                 Cash  21430.15     2324.65   \n",
              "\n",
              "   paid_principal  paid_interest  paid_late_fees  \n",
              "0          984.14        1015.19             0.0  \n",
              "1          348.63         150.49             0.0  \n",
              "2          175.37         106.43             0.0  \n",
              "3         2746.74         566.15             0.0  \n",
              "4         1569.85         754.80             0.0  \n",
              "\n",
              "[5 rows x 56 columns]"
            ],
            "text/html": [
              "\n",
              "  <div id=\"df-1279573a-2342-486b-8c4e-1989f0378c91\" class=\"colab-df-container\">\n",
              "    <div>\n",
              "<style scoped>\n",
              "    .dataframe tbody tr th:only-of-type {\n",
              "        vertical-align: middle;\n",
              "    }\n",
              "\n",
              "    .dataframe tbody tr th {\n",
              "        vertical-align: top;\n",
              "    }\n",
              "\n",
              "    .dataframe thead th {\n",
              "        text-align: right;\n",
              "    }\n",
              "</style>\n",
              "<table border=\"1\" class=\"dataframe\">\n",
              "  <thead>\n",
              "    <tr style=\"text-align: right;\">\n",
              "      <th></th>\n",
              "      <th>rownames</th>\n",
              "      <th>emp_title</th>\n",
              "      <th>emp_length</th>\n",
              "      <th>state</th>\n",
              "      <th>homeownership</th>\n",
              "      <th>annual_income</th>\n",
              "      <th>verified_income</th>\n",
              "      <th>debt_to_income</th>\n",
              "      <th>annual_income_joint</th>\n",
              "      <th>verification_income_joint</th>\n",
              "      <th>...</th>\n",
              "      <th>sub_grade</th>\n",
              "      <th>issue_month</th>\n",
              "      <th>loan_status</th>\n",
              "      <th>initial_listing_status</th>\n",
              "      <th>disbursement_method</th>\n",
              "      <th>balance</th>\n",
              "      <th>paid_total</th>\n",
              "      <th>paid_principal</th>\n",
              "      <th>paid_interest</th>\n",
              "      <th>paid_late_fees</th>\n",
              "    </tr>\n",
              "  </thead>\n",
              "  <tbody>\n",
              "    <tr>\n",
              "      <th>0</th>\n",
              "      <td>1</td>\n",
              "      <td>global config engineer</td>\n",
              "      <td>3.0</td>\n",
              "      <td>NJ</td>\n",
              "      <td>MORTGAGE</td>\n",
              "      <td>90000.0</td>\n",
              "      <td>Verified</td>\n",
              "      <td>18.01</td>\n",
              "      <td>NaN</td>\n",
              "      <td>NaN</td>\n",
              "      <td>...</td>\n",
              "      <td>C3</td>\n",
              "      <td>Mar-2018</td>\n",
              "      <td>Current</td>\n",
              "      <td>whole</td>\n",
              "      <td>Cash</td>\n",
              "      <td>27015.86</td>\n",
              "      <td>1999.33</td>\n",
              "      <td>984.14</td>\n",
              "      <td>1015.19</td>\n",
              "      <td>0.0</td>\n",
              "    </tr>\n",
              "    <tr>\n",
              "      <th>1</th>\n",
              "      <td>2</td>\n",
              "      <td>warehouse office clerk</td>\n",
              "      <td>10.0</td>\n",
              "      <td>HI</td>\n",
              "      <td>RENT</td>\n",
              "      <td>40000.0</td>\n",
              "      <td>Not Verified</td>\n",
              "      <td>5.04</td>\n",
              "      <td>NaN</td>\n",
              "      <td>NaN</td>\n",
              "      <td>...</td>\n",
              "      <td>C1</td>\n",
              "      <td>Feb-2018</td>\n",
              "      <td>Current</td>\n",
              "      <td>whole</td>\n",
              "      <td>Cash</td>\n",
              "      <td>4651.37</td>\n",
              "      <td>499.12</td>\n",
              "      <td>348.63</td>\n",
              "      <td>150.49</td>\n",
              "      <td>0.0</td>\n",
              "    </tr>\n",
              "    <tr>\n",
              "      <th>2</th>\n",
              "      <td>3</td>\n",
              "      <td>assembly</td>\n",
              "      <td>3.0</td>\n",
              "      <td>WI</td>\n",
              "      <td>RENT</td>\n",
              "      <td>40000.0</td>\n",
              "      <td>Source Verified</td>\n",
              "      <td>21.15</td>\n",
              "      <td>NaN</td>\n",
              "      <td>NaN</td>\n",
              "      <td>...</td>\n",
              "      <td>D1</td>\n",
              "      <td>Feb-2018</td>\n",
              "      <td>Current</td>\n",
              "      <td>fractional</td>\n",
              "      <td>Cash</td>\n",
              "      <td>1824.63</td>\n",
              "      <td>281.80</td>\n",
              "      <td>175.37</td>\n",
              "      <td>106.43</td>\n",
              "      <td>0.0</td>\n",
              "    </tr>\n",
              "    <tr>\n",
              "      <th>3</th>\n",
              "      <td>4</td>\n",
              "      <td>customer service</td>\n",
              "      <td>1.0</td>\n",
              "      <td>PA</td>\n",
              "      <td>RENT</td>\n",
              "      <td>30000.0</td>\n",
              "      <td>Not Verified</td>\n",
              "      <td>10.16</td>\n",
              "      <td>NaN</td>\n",
              "      <td>NaN</td>\n",
              "      <td>...</td>\n",
              "      <td>A3</td>\n",
              "      <td>Jan-2018</td>\n",
              "      <td>Current</td>\n",
              "      <td>whole</td>\n",
              "      <td>Cash</td>\n",
              "      <td>18853.26</td>\n",
              "      <td>3312.89</td>\n",
              "      <td>2746.74</td>\n",
              "      <td>566.15</td>\n",
              "      <td>0.0</td>\n",
              "    </tr>\n",
              "    <tr>\n",
              "      <th>4</th>\n",
              "      <td>5</td>\n",
              "      <td>security supervisor</td>\n",
              "      <td>10.0</td>\n",
              "      <td>CA</td>\n",
              "      <td>RENT</td>\n",
              "      <td>35000.0</td>\n",
              "      <td>Verified</td>\n",
              "      <td>57.96</td>\n",
              "      <td>57000.0</td>\n",
              "      <td>Verified</td>\n",
              "      <td>...</td>\n",
              "      <td>C3</td>\n",
              "      <td>Mar-2018</td>\n",
              "      <td>Current</td>\n",
              "      <td>whole</td>\n",
              "      <td>Cash</td>\n",
              "      <td>21430.15</td>\n",
              "      <td>2324.65</td>\n",
              "      <td>1569.85</td>\n",
              "      <td>754.80</td>\n",
              "      <td>0.0</td>\n",
              "    </tr>\n",
              "  </tbody>\n",
              "</table>\n",
              "<p>5 rows × 56 columns</p>\n",
              "</div>\n",
              "    <div class=\"colab-df-buttons\">\n",
              "\n",
              "  <div class=\"colab-df-container\">\n",
              "    <button class=\"colab-df-convert\" onclick=\"convertToInteractive('df-1279573a-2342-486b-8c4e-1989f0378c91')\"\n",
              "            title=\"Convert this dataframe to an interactive table.\"\n",
              "            style=\"display:none;\">\n",
              "\n",
              "  <svg xmlns=\"http://www.w3.org/2000/svg\" height=\"24px\" viewBox=\"0 -960 960 960\">\n",
              "    <path d=\"M120-120v-720h720v720H120Zm60-500h600v-160H180v160Zm220 220h160v-160H400v160Zm0 220h160v-160H400v160ZM180-400h160v-160H180v160Zm440 0h160v-160H620v160ZM180-180h160v-160H180v160Zm440 0h160v-160H620v160Z\"/>\n",
              "  </svg>\n",
              "    </button>\n",
              "\n",
              "  <style>\n",
              "    .colab-df-container {\n",
              "      display:flex;\n",
              "      gap: 12px;\n",
              "    }\n",
              "\n",
              "    .colab-df-convert {\n",
              "      background-color: #E8F0FE;\n",
              "      border: none;\n",
              "      border-radius: 50%;\n",
              "      cursor: pointer;\n",
              "      display: none;\n",
              "      fill: #1967D2;\n",
              "      height: 32px;\n",
              "      padding: 0 0 0 0;\n",
              "      width: 32px;\n",
              "    }\n",
              "\n",
              "    .colab-df-convert:hover {\n",
              "      background-color: #E2EBFA;\n",
              "      box-shadow: 0px 1px 2px rgba(60, 64, 67, 0.3), 0px 1px 3px 1px rgba(60, 64, 67, 0.15);\n",
              "      fill: #174EA6;\n",
              "    }\n",
              "\n",
              "    .colab-df-buttons div {\n",
              "      margin-bottom: 4px;\n",
              "    }\n",
              "\n",
              "    [theme=dark] .colab-df-convert {\n",
              "      background-color: #3B4455;\n",
              "      fill: #D2E3FC;\n",
              "    }\n",
              "\n",
              "    [theme=dark] .colab-df-convert:hover {\n",
              "      background-color: #434B5C;\n",
              "      box-shadow: 0px 1px 3px 1px rgba(0, 0, 0, 0.15);\n",
              "      filter: drop-shadow(0px 1px 2px rgba(0, 0, 0, 0.3));\n",
              "      fill: #FFFFFF;\n",
              "    }\n",
              "  </style>\n",
              "\n",
              "    <script>\n",
              "      const buttonEl =\n",
              "        document.querySelector('#df-1279573a-2342-486b-8c4e-1989f0378c91 button.colab-df-convert');\n",
              "      buttonEl.style.display =\n",
              "        google.colab.kernel.accessAllowed ? 'block' : 'none';\n",
              "\n",
              "      async function convertToInteractive(key) {\n",
              "        const element = document.querySelector('#df-1279573a-2342-486b-8c4e-1989f0378c91');\n",
              "        const dataTable =\n",
              "          await google.colab.kernel.invokeFunction('convertToInteractive',\n",
              "                                                    [key], {});\n",
              "        if (!dataTable) return;\n",
              "\n",
              "        const docLinkHtml = 'Like what you see? Visit the ' +\n",
              "          '<a target=\"_blank\" href=https://colab.research.google.com/notebooks/data_table.ipynb>data table notebook</a>'\n",
              "          + ' to learn more about interactive tables.';\n",
              "        element.innerHTML = '';\n",
              "        dataTable['output_type'] = 'display_data';\n",
              "        await google.colab.output.renderOutput(dataTable, element);\n",
              "        const docLink = document.createElement('div');\n",
              "        docLink.innerHTML = docLinkHtml;\n",
              "        element.appendChild(docLink);\n",
              "      }\n",
              "    </script>\n",
              "  </div>\n",
              "\n",
              "\n",
              "<div id=\"df-856b88d6-4d61-4e45-9961-712d9798c42d\">\n",
              "  <button class=\"colab-df-quickchart\" onclick=\"quickchart('df-856b88d6-4d61-4e45-9961-712d9798c42d')\"\n",
              "            title=\"Suggest charts\"\n",
              "            style=\"display:none;\">\n",
              "\n",
              "<svg xmlns=\"http://www.w3.org/2000/svg\" height=\"24px\"viewBox=\"0 0 24 24\"\n",
              "     width=\"24px\">\n",
              "    <g>\n",
              "        <path d=\"M19 3H5c-1.1 0-2 .9-2 2v14c0 1.1.9 2 2 2h14c1.1 0 2-.9 2-2V5c0-1.1-.9-2-2-2zM9 17H7v-7h2v7zm4 0h-2V7h2v10zm4 0h-2v-4h2v4z\"/>\n",
              "    </g>\n",
              "</svg>\n",
              "  </button>\n",
              "\n",
              "<style>\n",
              "  .colab-df-quickchart {\n",
              "      --bg-color: #E8F0FE;\n",
              "      --fill-color: #1967D2;\n",
              "      --hover-bg-color: #E2EBFA;\n",
              "      --hover-fill-color: #174EA6;\n",
              "      --disabled-fill-color: #AAA;\n",
              "      --disabled-bg-color: #DDD;\n",
              "  }\n",
              "\n",
              "  [theme=dark] .colab-df-quickchart {\n",
              "      --bg-color: #3B4455;\n",
              "      --fill-color: #D2E3FC;\n",
              "      --hover-bg-color: #434B5C;\n",
              "      --hover-fill-color: #FFFFFF;\n",
              "      --disabled-bg-color: #3B4455;\n",
              "      --disabled-fill-color: #666;\n",
              "  }\n",
              "\n",
              "  .colab-df-quickchart {\n",
              "    background-color: var(--bg-color);\n",
              "    border: none;\n",
              "    border-radius: 50%;\n",
              "    cursor: pointer;\n",
              "    display: none;\n",
              "    fill: var(--fill-color);\n",
              "    height: 32px;\n",
              "    padding: 0;\n",
              "    width: 32px;\n",
              "  }\n",
              "\n",
              "  .colab-df-quickchart:hover {\n",
              "    background-color: var(--hover-bg-color);\n",
              "    box-shadow: 0 1px 2px rgba(60, 64, 67, 0.3), 0 1px 3px 1px rgba(60, 64, 67, 0.15);\n",
              "    fill: var(--button-hover-fill-color);\n",
              "  }\n",
              "\n",
              "  .colab-df-quickchart-complete:disabled,\n",
              "  .colab-df-quickchart-complete:disabled:hover {\n",
              "    background-color: var(--disabled-bg-color);\n",
              "    fill: var(--disabled-fill-color);\n",
              "    box-shadow: none;\n",
              "  }\n",
              "\n",
              "  .colab-df-spinner {\n",
              "    border: 2px solid var(--fill-color);\n",
              "    border-color: transparent;\n",
              "    border-bottom-color: var(--fill-color);\n",
              "    animation:\n",
              "      spin 1s steps(1) infinite;\n",
              "  }\n",
              "\n",
              "  @keyframes spin {\n",
              "    0% {\n",
              "      border-color: transparent;\n",
              "      border-bottom-color: var(--fill-color);\n",
              "      border-left-color: var(--fill-color);\n",
              "    }\n",
              "    20% {\n",
              "      border-color: transparent;\n",
              "      border-left-color: var(--fill-color);\n",
              "      border-top-color: var(--fill-color);\n",
              "    }\n",
              "    30% {\n",
              "      border-color: transparent;\n",
              "      border-left-color: var(--fill-color);\n",
              "      border-top-color: var(--fill-color);\n",
              "      border-right-color: var(--fill-color);\n",
              "    }\n",
              "    40% {\n",
              "      border-color: transparent;\n",
              "      border-right-color: var(--fill-color);\n",
              "      border-top-color: var(--fill-color);\n",
              "    }\n",
              "    60% {\n",
              "      border-color: transparent;\n",
              "      border-right-color: var(--fill-color);\n",
              "    }\n",
              "    80% {\n",
              "      border-color: transparent;\n",
              "      border-right-color: var(--fill-color);\n",
              "      border-bottom-color: var(--fill-color);\n",
              "    }\n",
              "    90% {\n",
              "      border-color: transparent;\n",
              "      border-bottom-color: var(--fill-color);\n",
              "    }\n",
              "  }\n",
              "</style>\n",
              "\n",
              "  <script>\n",
              "    async function quickchart(key) {\n",
              "      const quickchartButtonEl =\n",
              "        document.querySelector('#' + key + ' button');\n",
              "      quickchartButtonEl.disabled = true;  // To prevent multiple clicks.\n",
              "      quickchartButtonEl.classList.add('colab-df-spinner');\n",
              "      try {\n",
              "        const charts = await google.colab.kernel.invokeFunction(\n",
              "            'suggestCharts', [key], {});\n",
              "      } catch (error) {\n",
              "        console.error('Error during call to suggestCharts:', error);\n",
              "      }\n",
              "      quickchartButtonEl.classList.remove('colab-df-spinner');\n",
              "      quickchartButtonEl.classList.add('colab-df-quickchart-complete');\n",
              "    }\n",
              "    (() => {\n",
              "      let quickchartButtonEl =\n",
              "        document.querySelector('#df-856b88d6-4d61-4e45-9961-712d9798c42d button');\n",
              "      quickchartButtonEl.style.display =\n",
              "        google.colab.kernel.accessAllowed ? 'block' : 'none';\n",
              "    })();\n",
              "  </script>\n",
              "</div>\n",
              "\n",
              "    </div>\n",
              "  </div>\n"
            ],
            "application/vnd.google.colaboratory.intrinsic+json": {
              "type": "dataframe",
              "variable_name": "loan_data"
            }
          },
          "metadata": {},
          "execution_count": 7
        }
      ]
    },
    {
      "cell_type": "markdown",
      "source": [
        "The data from the `loan50.csv` file has been loaded successfully, and it appears we have several columns that can be used to determine the various characteristics of the loans. Here are the relevant columns based on your question:\n"
      ],
      "metadata": {
        "id": "pezSROpsZKlF"
      }
    },
    {
      "cell_type": "code",
      "source": [
        "loan_data.shape"
      ],
      "metadata": {
        "colab": {
          "base_uri": "https://localhost:8080/"
        },
        "id": "2msTC6pDcj5m",
        "outputId": "1d9878fc-742c-4769-af70-60abf3dba2d9"
      },
      "execution_count": null,
      "outputs": [
        {
          "output_type": "execute_result",
          "data": {
            "text/plain": [
              "(10000, 56)"
            ]
          },
          "metadata": {},
          "execution_count": 8
        }
      ]
    },
    {
      "cell_type": "code",
      "source": [
        "# Verify column names\n",
        "print(loan_data.columns)  # Check for 'application_type' or similar\n",
        "\n"
      ],
      "metadata": {
        "colab": {
          "base_uri": "https://localhost:8080/"
        },
        "id": "Um-TQVTgWkxm",
        "outputId": "d90f921b-1dd0-4543-a733-85ce669afe25"
      },
      "execution_count": null,
      "outputs": [
        {
          "output_type": "stream",
          "name": "stdout",
          "text": [
            "Index(['rownames', 'emp_title', 'emp_length', 'state', 'homeownership',\n",
            "       'annual_income', 'verified_income', 'debt_to_income',\n",
            "       'annual_income_joint', 'verification_income_joint',\n",
            "       'debt_to_income_joint', 'delinq_2y', 'months_since_last_delinq',\n",
            "       'earliest_credit_line', 'inquiries_last_12m', 'total_credit_lines',\n",
            "       'open_credit_lines', 'total_credit_limit', 'total_credit_utilized',\n",
            "       'num_collections_last_12m', 'num_historical_failed_to_pay',\n",
            "       'months_since_90d_late', 'current_accounts_delinq',\n",
            "       'total_collection_amount_ever', 'current_installment_accounts',\n",
            "       'accounts_opened_24m', 'months_since_last_credit_inquiry',\n",
            "       'num_satisfactory_accounts', 'num_accounts_120d_past_due',\n",
            "       'num_accounts_30d_past_due', 'num_active_debit_accounts',\n",
            "       'total_debit_limit', 'num_total_cc_accounts', 'num_open_cc_accounts',\n",
            "       'num_cc_carrying_balance', 'num_mort_accounts',\n",
            "       'account_never_delinq_percent', 'tax_liens', 'public_record_bankrupt',\n",
            "       'loan_purpose', 'application_type', 'loan_amount', 'term',\n",
            "       'interest_rate', 'installment', 'grade', 'sub_grade', 'issue_month',\n",
            "       'loan_status', 'initial_listing_status', 'disbursement_method',\n",
            "       'balance', 'paid_total', 'paid_principal', 'paid_interest',\n",
            "       'paid_late_fees'],\n",
            "      dtype='object')\n"
          ]
        }
      ]
    },
    {
      "cell_type": "code",
      "source": [
        "# Calculate total number of loans\n",
        "total_loans = len(loan_data)\n",
        "\n",
        "# Calculate number of joint applications\n",
        "# Assuming 'annual_income_joint' being not null indicates a joint application\n",
        "joint_applications = loan_data['annual_income_joint'].notna().sum()\n",
        "\n",
        "# Calculate number of loans with a mortgage\n",
        "with_mortgage = (loan_data['homeownership'] == 'MORTGAGE').sum()\n",
        "\n",
        "# Calculate number of loans that are both joint applications and have a mortgage\n",
        "both_characteristics = loan_data[(loan_data['annual_income_joint'].notna()) &\n",
        "                                  (loan_data['homeownership'] == 'MORTGAGE')].shape[0]\n",
        "\n",
        "# Print calculated values\n",
        "print(f\"Total loans: {total_loans}\")\n",
        "print(f\"Joint applications: {joint_applications}\")\n",
        "print(f\"With mortgage: {with_mortgage}\")\n",
        "print(f\"Both characteristics (joint applications and with mortgage): {both_characteristics}\")\n",
        "\n"
      ],
      "metadata": {
        "colab": {
          "base_uri": "https://localhost:8080/"
        },
        "id": "_4NiOxcFWk1w",
        "outputId": "4ef6ffae-f9dd-4eeb-a4a8-b589ee1d1888"
      },
      "execution_count": null,
      "outputs": [
        {
          "output_type": "stream",
          "name": "stdout",
          "text": [
            "Total loans: 10000\n",
            "Joint applications: 1495\n",
            "With mortgage: 4789\n",
            "Both characteristics (joint applications and with mortgage): 950\n"
          ]
        }
      ]
    },
    {
      "cell_type": "markdown",
      "source": [
        "This script uses the pandas library to filter and calculate the required values based on the conditions provided. Let's execute this code to get the results. ​​\n",
        "\n",
        "Here are the results based on the `loans_full_schema.csv` data:\n",
        "\n",
        "Total loans: 10,000\n",
        "Joint applications: 1,495\n",
        "With mortgage: 4,789\n",
        "Both characteristics (joint applications and with mortgage): 950"
      ],
      "metadata": {
        "id": "rS4SjTxzepmj"
      }
    },
    {
      "cell_type": "markdown",
      "source": [
        "* (a) Use our Venn diagram from above to determine the probability a randomly drawn loan from the loans data set is from a joint application where the couple had a mortgage?\n",
        "* (b) What is the probability that the loan had either of these attributes?"
      ],
      "metadata": {
        "id": "afR3qhhWgdWy"
      }
    },
    {
      "cell_type": "code",
      "source": [
        "# Calculate the probability of a loan being from a joint application where the couple had a mortgage\n",
        "probability_joint_mortgage = both_characteristics / total_loans\n",
        "\n",
        "# Output the probability\n",
        "probability_joint_mortgage\n"
      ],
      "metadata": {
        "colab": {
          "base_uri": "https://localhost:8080/"
        },
        "id": "avECIiwAWk5C",
        "outputId": "f980e827-d1cb-4f8f-bb0c-38f2fbf521ab"
      },
      "execution_count": null,
      "outputs": [
        {
          "output_type": "execute_result",
          "data": {
            "text/plain": [
              "0.095"
            ]
          },
          "metadata": {},
          "execution_count": 11
        }
      ]
    },
    {
      "cell_type": "markdown",
      "source": [
        "To determine the probability that a randomly drawn loan from the dataset is from a joint application where the couple had a mortgage, we use the classical probability formula:\n",
        "\n",
        "$ P(A) = \\frac{\\text{Number of favorable outcomes}}{\\text{Total number of outcomes}} $\n",
        "\n",
        "Here:\n",
        "- **Favorable outcomes**: Loans that are both joint applications and have a mortgage.\n",
        "- **Total outcomes**: Total number of loans in the dataset.\n",
        "\n",
        "Given:\n",
        "- **Both characteristics (joint applications and with mortgage)**: $950$\n",
        "- **Total loans**: $10,000$\n",
        "\n",
        "The probability $ P(A) $ can be calculated as follows:\n",
        "\n",
        "$ P(A) = \\frac{950}{10,000} =0.095 $\n"
      ],
      "metadata": {
        "id": "K0E51cuLibkr"
      }
    },
    {
      "cell_type": "code",
      "source": [
        "# Calculate the probability of a joint application\n",
        "prob_joint_applications = joint_applications / total_loans\n",
        "\n",
        "# Calculate the probability of having a mortgage\n",
        "prob_with_mortgage = with_mortgage / total_loans\n",
        "\n",
        "# Calculate the probability of either event occurring (joint application or having a mortgage)\n",
        "probability_either = prob_joint_applications + prob_with_mortgage - probability_joint_mortgage\n",
        "\n",
        "# Output the probability\n",
        "probability_either\n"
      ],
      "metadata": {
        "colab": {
          "base_uri": "https://localhost:8080/"
        },
        "id": "CwAbA7WjWk-X",
        "outputId": "f05c7f59-3c71-4398-ab21-84e9b9228c31"
      },
      "execution_count": null,
      "outputs": [
        {
          "output_type": "execute_result",
          "data": {
            "text/plain": [
              "0.5334"
            ]
          },
          "metadata": {},
          "execution_count": 12
        }
      ]
    },
    {
      "cell_type": "markdown",
      "source": [
        "To determine the probability that a randomly drawn loan from the dataset had either the attribute of being a joint application or having a mortgage (or both), we use the formula for the probability of the union of two events:\n",
        "\n",
        "$ P(A \\cup B) = P(A) + P(B) - P(A \\cap B) $\n",
        "\n",
        "Where:\n",
        "- $ P(A) $ is the probability of a joint application.\n",
        "- $ P(B) $ is the probability of having a mortgage.\n",
        "- $ P(A \\cap B) $ is the probability of both being a joint application and having a mortgage.\n",
        "\n",
        "Given:\n",
        "- **Joint applications** $ P(A) : 1,495$\n",
        "- **With mortgage** $ P(B) : 4,789$\n",
        "- **Both characteristics** $ P(A \\cap B) : 950$\n",
        "- **Total loans**: $10,000$\n",
        "\n",
        "We can calculate the probability $ P(A \\cup B) $ as follows:\n",
        "\n",
        "$P(A \\cup B) = \\frac{1495}{10000} + \\frac{4789}{10000} - \\frac{950}{10000} $\n"
      ],
      "metadata": {
        "id": "Rest3H_Hh0YD"
      }
    },
    {
      "cell_type": "code",
      "source": [
        "# Define income categories\n",
        "bins = [0, 25000, 50000, 100000, float('inf')]\n",
        "labels = ['$0-25k', '$25k-50k', '$50k-100k', '$100k+']\n",
        "\n",
        "# Categorize annual income into ranges\n",
        "loan_data['income_range'] = pd.cut(loan_data['annual_income'], bins=bins, labels=labels, right=False)\n",
        "\n",
        "# Calculate the probability distribution of the income ranges\n",
        "income_distribution = loan_data['income_range'].value_counts(normalize=True).sort_index()\n",
        "\n",
        "# Print the probability distribution\n",
        "print(income_distribution)"
      ],
      "metadata": {
        "colab": {
          "base_uri": "https://localhost:8080/"
        },
        "id": "HIKZG5bDWlFo",
        "outputId": "a305bbce-03a6-48f5-9d86-263de939c17a"
      },
      "execution_count": null,
      "outputs": [
        {
          "output_type": "stream",
          "name": "stdout",
          "text": [
            "income_range\n",
            "$0-25k       0.0443\n",
            "$25k-50k     0.2412\n",
            "$50k-100k    0.4822\n",
            "$100k+       0.2323\n",
            "Name: proportion, dtype: float64\n"
          ]
        }
      ]
    },
    {
      "cell_type": "markdown",
      "source": [
        "# **PROBABILITY DISTRIBUTIONS**\n",
        "* Bins and Labels : We define the bins that represent the edges of the income ranges and labels for each bin.\n",
        "* Categorizing Income: The `pd.cut` function categorizes the `annual_income` into specified ranges.\n",
        "* Probability Distribution: Using `value_counts` with `normalize=True` computes the relative frequencies of the income ranges, giving us the probability distribution.\n",
        "\n",
        "This distribution shows that nearly half of the loans in the dataset are associated with annual incomes between \\$50,000 and \\$100,000.\n",
        "\n",
        "### Histogram Plot\n",
        "Here's the histogram showing the probability distribution of the income ranges. This visual representation helps illustrate the proportions of each income category within the dataset."
      ],
      "metadata": {
        "id": "6udjBpoWkagl"
      }
    },
    {
      "cell_type": "code",
      "source": [
        "import matplotlib.pyplot as plt\n",
        "\n",
        "# Plotting the histogram for the income distribution\n",
        "income_distribution.plot(kind='bar', color='skyblue', figsize=(10, 6))\n",
        "plt.title('Probability Distribution of Income Ranges')\n",
        "plt.xlabel('Income Ranges')\n",
        "plt.ylabel('Probability')\n",
        "plt.xticks(rotation=45)\n",
        "plt.grid(True)\n",
        "plt.show()\n"
      ],
      "metadata": {
        "colab": {
          "base_uri": "https://localhost:8080/",
          "height": 612
        },
        "id": "Q5D_e-2NjhLL",
        "outputId": "d5953586-8bed-480b-d80a-c79f04ef04f3"
      },
      "execution_count": null,
      "outputs": [
        {
          "output_type": "display_data",
          "data": {
            "text/plain": [
              "<Figure size 1000x600 with 1 Axes>"
            ],
            "image/png": "[encoded data removed]"
          },
          "metadata": {}
        }
      ]
    },
    {
      "cell_type": "markdown",
      "source": [
        "## Dice Sum Probabilities:\n",
        "\n",
        "To create a plot of the probability distribution for the sum of two dice, we first need to calculate the probabilities for each possible sum, ranging from 2 (minimum sum, when both dice show 1) to 12 (maximum sum, when both dice show 6).\n",
        "\n",
        "Each die has 6 faces, so there are a total of $6×6=36$ outcomes when two dice are rolled. We'll calculate the frequency of each sum and then convert these frequencies to probabilities by dividing by the total number of outcomes.\n",
        "\n",
        "Steps to Create the Plot:\n",
        "* Calculate Frequency of Each Sum: We'll simulate rolling two dice and calculate how often each sum occurs.\n",
        "* Convert Frequencies to Probabilities: Divide each frequency by the total number of outcomes (36) to get probabilities.\n",
        "* Plot the Probability Distribution: Use matplotlib to plot these probabilities.\n",
        "\n",
        "To create a probability distribution plot for the sum of two dice, we calculate the probability of each possible sum and then plot these probabilities. Each die has 6 faces, leading to a total of \\(6 \\times 6 = 36\\) possible outcomes. Here's how the sums range:\n",
        "\n",
        "- **Sum of 2**: 1 way ($1+1$)\n",
        "- **Sum of 3**: 2 ways ($1+2, 2+1$)\n",
        "- **Sum of 4**: 3 ways ($1+3, 2+2, 3+1$)\n",
        "- **Sum of 5**: 4 ways ($1+4, 2+3, 3+2, 4+1$)\n",
        "- **Sum of 6**: 5 ways ($1+5, 2+4, 3+3, 4+2, 5+1$)\n",
        "- **Sum of 7**: 6 ways ($1+6, 2+5, 3+4, 4+3, 5+2, 6+1$)\n",
        "- **Sum of 8**: 5 ways ($2+6, 3+5, 4+4, 5+3, 6+2$)\n",
        "- **Sum of 9**: 4 ways ($3+6, 4+5, 5+4, 6+3$)\n",
        "- **Sum of 10**: 3 ways ($4+6, 5+5, 6+4$)\n",
        "- **Sum of 11**: 2 ways ($5+6, 6+5$)\n",
        "- **Sum of 12**: 1 way ($6+6$)\n",
        "\n",
        "This distribution shows that certain sums are more likely than others, with the highest probability centered around the sum of 7.\n"
      ],
      "metadata": {
        "id": "AkV73J2uoCrP"
      }
    },
    {
      "cell_type": "code",
      "source": [
        "import matplotlib.pyplot as plt\n",
        "\n",
        "# Possible sums from two dice rolls\n",
        "sums = range(2, 13)\n",
        "\n",
        "# Count of ways to achieve each sum\n",
        "counts = [1, 2, 3, 4, 5, 6, 5, 4, 3, 2, 1]\n",
        "\n",
        "# Total number of outcomes when rolling two dice\n",
        "total_outcomes = 36\n",
        "\n",
        "# Probability for each sum\n",
        "probabilities = [count / total_outcomes for count in counts]\n",
        "\n",
        "# Creating the plot\n",
        "plt.figure(figsize=(10, 6))\n",
        "plt.bar(sums, probabilities, color='blue')\n",
        "plt.title('Probability Distribution of the Sum of Two Dice')\n",
        "plt.xlabel('Sum of Two Dice')\n",
        "plt.ylabel('Probability')\n",
        "plt.xticks(sums)\n",
        "plt.grid(axis='y')\n",
        "plt.show()"
      ],
      "metadata": {
        "colab": {
          "base_uri": "https://localhost:8080/",
          "height": 564
        },
        "id": "F61x40njlnJr",
        "outputId": "8cfe7ad4-619e-48ac-838f-165b99845454"
      },
      "execution_count": null,
      "outputs": [
        {
          "output_type": "display_data",
          "data": {
            "text/plain": [
              "<Figure size 1000x600 with 1 Axes>"
            ],
            "image/png": "[encoded data removed]"
          },
          "metadata": {}
        }
      ]
    },
    {
      "cell_type": "code",
      "source": [],
      "metadata": {
        "id": "8snWCushobZu"
      },
      "execution_count": null,
      "outputs": []
    },
    {
      "cell_type": "markdown",
      "source": [
        "# **Conditional Probability**\n",
        "\n",
        "### Smallpox Data\n",
        "\n",
        "The dataset titled \"Smallpox in Boston, 1721\" includes data on 6,224 individuals exposed to smallpox during that year in Boston. Some of the individuals were inoculated, which was an early form of vaccination involving exposure to a controlled form of the disease, believed at the time to reduce the likelihood of death. This dataset contains records on whether each individual lived or died, and whether they were inoculated.\n",
        "\n",
        "For more details on the data and to access the dataset itself, you can visit OpenIntro's page directly through [this link](https://https://www.openintro.org/data/index.php?data=smallpox) to the Smallpox dataset. This resource is part of their effort to provide accessible educational materials and data sets for statistical analysis."
      ],
      "metadata": {
        "id": "ruuHGP7g6fzd"
      }
    },
    {
      "cell_type": "code",
      "source": [
        "import pandas as pd\n",
        "\n",
        "# Load the data into a DataFrame\n",
        "spx_data = pd.read_csv('sample_data/smallpox.csv')\n",
        "\n",
        "# Display the first few rows of the DataFrame\n",
        "spx_data.head()"
      ],
      "metadata": {
        "id": "hYF8wR8M6p5p",
        "colab": {
          "base_uri": "https://localhost:8080/",
          "height": 206
        },
        "outputId": "6501461b-613b-464d-8826-cf955e14810d"
      },
      "execution_count": null,
      "outputs": [
        {
          "output_type": "execute_result",
          "data": {
            "text/plain": [
              "  result inoculated\n",
              "0  lived        yes\n",
              "1  lived        yes\n",
              "2  lived        yes\n",
              "3  lived        yes\n",
              "4  lived        yes"
            ],
            "text/html": [
              "\n",
              "  <div id=\"df-3c549d34-7898-4a10-b87c-420fa6c02983\" class=\"colab-df-container\">\n",
              "    <div>\n",
              "<style scoped>\n",
              "    .dataframe tbody tr th:only-of-type {\n",
              "        vertical-align: middle;\n",
              "    }\n",
              "\n",
              "    .dataframe tbody tr th {\n",
              "        vertical-align: top;\n",
              "    }\n",
              "\n",
              "    .dataframe thead th {\n",
              "        text-align: right;\n",
              "    }\n",
              "</style>\n",
              "<table border=\"1\" class=\"dataframe\">\n",
              "  <thead>\n",
              "    <tr style=\"text-align: right;\">\n",
              "      <th></th>\n",
              "      <th>result</th>\n",
              "      <th>inoculated</th>\n",
              "    </tr>\n",
              "  </thead>\n",
              "  <tbody>\n",
              "    <tr>\n",
              "      <th>0</th>\n",
              "      <td>lived</td>\n",
              "      <td>yes</td>\n",
              "    </tr>\n",
              "    <tr>\n",
              "      <th>1</th>\n",
              "      <td>lived</td>\n",
              "      <td>yes</td>\n",
              "    </tr>\n",
              "    <tr>\n",
              "      <th>2</th>\n",
              "      <td>lived</td>\n",
              "      <td>yes</td>\n",
              "    </tr>\n",
              "    <tr>\n",
              "      <th>3</th>\n",
              "      <td>lived</td>\n",
              "      <td>yes</td>\n",
              "    </tr>\n",
              "    <tr>\n",
              "      <th>4</th>\n",
              "      <td>lived</td>\n",
              "      <td>yes</td>\n",
              "    </tr>\n",
              "  </tbody>\n",
              "</table>\n",
              "</div>\n",
              "    <div class=\"colab-df-buttons\">\n",
              "\n",
              "  <div class=\"colab-df-container\">\n",
              "    <button class=\"colab-df-convert\" onclick=\"convertToInteractive('df-3c549d34-7898-4a10-b87c-420fa6c02983')\"\n",
              "            title=\"Convert this dataframe to an interactive table.\"\n",
              "            style=\"display:none;\">\n",
              "\n",
              "  <svg xmlns=\"http://www.w3.org/2000/svg\" height=\"24px\" viewBox=\"0 -960 960 960\">\n",
              "    <path d=\"M120-120v-720h720v720H120Zm60-500h600v-160H180v160Zm220 220h160v-160H400v160Zm0 220h160v-160H400v160ZM180-400h160v-160H180v160Zm440 0h160v-160H620v160ZM180-180h160v-160H180v160Zm440 0h160v-160H620v160Z\"/>\n",
              "  </svg>\n",
              "    </button>\n",
              "\n",
              "  <style>\n",
              "    .colab-df-container {\n",
              "      display:flex;\n",
              "      gap: 12px;\n",
              "    }\n",
              "\n",
              "    .colab-df-convert {\n",
              "      background-color: #E8F0FE;\n",
              "      border: none;\n",
              "      border-radius: 50%;\n",
              "      cursor: pointer;\n",
              "      display: none;\n",
              "      fill: #1967D2;\n",
              "      height: 32px;\n",
              "      padding: 0 0 0 0;\n",
              "      width: 32px;\n",
              "    }\n",
              "\n",
              "    .colab-df-convert:hover {\n",
              "      background-color: #E2EBFA;\n",
              "      box-shadow: 0px 1px 2px rgba(60, 64, 67, 0.3), 0px 1px 3px 1px rgba(60, 64, 67, 0.15);\n",
              "      fill: #174EA6;\n",
              "    }\n",
              "\n",
              "    .colab-df-buttons div {\n",
              "      margin-bottom: 4px;\n",
              "    }\n",
              "\n",
              "    [theme=dark] .colab-df-convert {\n",
              "      background-color: #3B4455;\n",
              "      fill: #D2E3FC;\n",
              "    }\n",
              "\n",
              "    [theme=dark] .colab-df-convert:hover {\n",
              "      background-color: #434B5C;\n",
              "      box-shadow: 0px 1px 3px 1px rgba(0, 0, 0, 0.15);\n",
              "      filter: drop-shadow(0px 1px 2px rgba(0, 0, 0, 0.3));\n",
              "      fill: #FFFFFF;\n",
              "    }\n",
              "  </style>\n",
              "\n",
              "    <script>\n",
              "      const buttonEl =\n",
              "        document.querySelector('#df-3c549d34-7898-4a10-b87c-420fa6c02983 button.colab-df-convert');\n",
              "      buttonEl.style.display =\n",
              "        google.colab.kernel.accessAllowed ? 'block' : 'none';\n",
              "\n",
              "      async function convertToInteractive(key) {\n",
              "        const element = document.querySelector('#df-3c549d34-7898-4a10-b87c-420fa6c02983');\n",
              "        const dataTable =\n",
              "          await google.colab.kernel.invokeFunction('convertToInteractive',\n",
              "                                                    [key], {});\n",
              "        if (!dataTable) return;\n",
              "\n",
              "        const docLinkHtml = 'Like what you see? Visit the ' +\n",
              "          '<a target=\"_blank\" href=https://colab.research.google.com/notebooks/data_table.ipynb>data table notebook</a>'\n",
              "          + ' to learn more about interactive tables.';\n",
              "        element.innerHTML = '';\n",
              "        dataTable['output_type'] = 'display_data';\n",
              "        await google.colab.output.renderOutput(dataTable, element);\n",
              "        const docLink = document.createElement('div');\n",
              "        docLink.innerHTML = docLinkHtml;\n",
              "        element.appendChild(docLink);\n",
              "      }\n",
              "    </script>\n",
              "  </div>\n",
              "\n",
              "\n",
              "<div id=\"df-d999c8d2-9ca6-4e4f-b00d-e8691ad0ec72\">\n",
              "  <button class=\"colab-df-quickchart\" onclick=\"quickchart('df-d999c8d2-9ca6-4e4f-b00d-e8691ad0ec72')\"\n",
              "            title=\"Suggest charts\"\n",
              "            style=\"display:none;\">\n",
              "\n",
              "<svg xmlns=\"http://www.w3.org/2000/svg\" height=\"24px\"viewBox=\"0 0 24 24\"\n",
              "     width=\"24px\">\n",
              "    <g>\n",
              "        <path d=\"M19 3H5c-1.1 0-2 .9-2 2v14c0 1.1.9 2 2 2h14c1.1 0 2-.9 2-2V5c0-1.1-.9-2-2-2zM9 17H7v-7h2v7zm4 0h-2V7h2v10zm4 0h-2v-4h2v4z\"/>\n",
              "    </g>\n",
              "</svg>\n",
              "  </button>\n",
              "\n",
              "<style>\n",
              "  .colab-df-quickchart {\n",
              "      --bg-color: #E8F0FE;\n",
              "      --fill-color: #1967D2;\n",
              "      --hover-bg-color: #E2EBFA;\n",
              "      --hover-fill-color: #174EA6;\n",
              "      --disabled-fill-color: #AAA;\n",
              "      --disabled-bg-color: #DDD;\n",
              "  }\n",
              "\n",
              "  [theme=dark] .colab-df-quickchart {\n",
              "      --bg-color: #3B4455;\n",
              "      --fill-color: #D2E3FC;\n",
              "      --hover-bg-color: #434B5C;\n",
              "      --hover-fill-color: #FFFFFF;\n",
              "      --disabled-bg-color: #3B4455;\n",
              "      --disabled-fill-color: #666;\n",
              "  }\n",
              "\n",
              "  .colab-df-quickchart {\n",
              "    background-color: var(--bg-color);\n",
              "    border: none;\n",
              "    border-radius: 50%;\n",
              "    cursor: pointer;\n",
              "    display: none;\n",
              "    fill: var(--fill-color);\n",
              "    height: 32px;\n",
              "    padding: 0;\n",
              "    width: 32px;\n",
              "  }\n",
              "\n",
              "  .colab-df-quickchart:hover {\n",
              "    background-color: var(--hover-bg-color);\n",
              "    box-shadow: 0 1px 2px rgba(60, 64, 67, 0.3), 0 1px 3px 1px rgba(60, 64, 67, 0.15);\n",
              "    fill: var(--button-hover-fill-color);\n",
              "  }\n",
              "\n",
              "  .colab-df-quickchart-complete:disabled,\n",
              "  .colab-df-quickchart-complete:disabled:hover {\n",
              "    background-color: var(--disabled-bg-color);\n",
              "    fill: var(--disabled-fill-color);\n",
              "    box-shadow: none;\n",
              "  }\n",
              "\n",
              "  .colab-df-spinner {\n",
              "    border: 2px solid var(--fill-color);\n",
              "    border-color: transparent;\n",
              "    border-bottom-color: var(--fill-color);\n",
              "    animation:\n",
              "      spin 1s steps(1) infinite;\n",
              "  }\n",
              "\n",
              "  @keyframes spin {\n",
              "    0% {\n",
              "      border-color: transparent;\n",
              "      border-bottom-color: var(--fill-color);\n",
              "      border-left-color: var(--fill-color);\n",
              "    }\n",
              "    20% {\n",
              "      border-color: transparent;\n",
              "      border-left-color: var(--fill-color);\n",
              "      border-top-color: var(--fill-color);\n",
              "    }\n",
              "    30% {\n",
              "      border-color: transparent;\n",
              "      border-left-color: var(--fill-color);\n",
              "      border-top-color: var(--fill-color);\n",
              "      border-right-color: var(--fill-color);\n",
              "    }\n",
              "    40% {\n",
              "      border-color: transparent;\n",
              "      border-right-color: var(--fill-color);\n",
              "      border-top-color: var(--fill-color);\n",
              "    }\n",
              "    60% {\n",
              "      border-color: transparent;\n",
              "      border-right-color: var(--fill-color);\n",
              "    }\n",
              "    80% {\n",
              "      border-color: transparent;\n",
              "      border-right-color: var(--fill-color);\n",
              "      border-bottom-color: var(--fill-color);\n",
              "    }\n",
              "    90% {\n",
              "      border-color: transparent;\n",
              "      border-bottom-color: var(--fill-color);\n",
              "    }\n",
              "  }\n",
              "</style>\n",
              "\n",
              "  <script>\n",
              "    async function quickchart(key) {\n",
              "      const quickchartButtonEl =\n",
              "        document.querySelector('#' + key + ' button');\n",
              "      quickchartButtonEl.disabled = true;  // To prevent multiple clicks.\n",
              "      quickchartButtonEl.classList.add('colab-df-spinner');\n",
              "      try {\n",
              "        const charts = await google.colab.kernel.invokeFunction(\n",
              "            'suggestCharts', [key], {});\n",
              "      } catch (error) {\n",
              "        console.error('Error during call to suggestCharts:', error);\n",
              "      }\n",
              "      quickchartButtonEl.classList.remove('colab-df-spinner');\n",
              "      quickchartButtonEl.classList.add('colab-df-quickchart-complete');\n",
              "    }\n",
              "    (() => {\n",
              "      let quickchartButtonEl =\n",
              "        document.querySelector('#df-d999c8d2-9ca6-4e4f-b00d-e8691ad0ec72 button');\n",
              "      quickchartButtonEl.style.display =\n",
              "        google.colab.kernel.accessAllowed ? 'block' : 'none';\n",
              "    })();\n",
              "  </script>\n",
              "</div>\n",
              "\n",
              "    </div>\n",
              "  </div>\n"
            ],
            "application/vnd.google.colaboratory.intrinsic+json": {
              "type": "dataframe",
              "variable_name": "spx_data",
              "summary": "{\n  \"name\": \"spx_data\",\n  \"rows\": 6224,\n  \"fields\": [\n    {\n      \"column\": \"result\",\n      \"properties\": {\n        \"dtype\": \"category\",\n        \"num_unique_values\": 2,\n        \"samples\": [\n          \"died\",\n          \"lived\"\n        ],\n        \"semantic_type\": \"\",\n        \"description\": \"\"\n      }\n    },\n    {\n      \"column\": \"inoculated\",\n      \"properties\": {\n        \"dtype\": \"category\",\n        \"num_unique_values\": 2,\n        \"samples\": [\n          \"no\",\n          \"yes\"\n        ],\n        \"semantic_type\": \"\",\n        \"description\": \"\"\n      }\n    }\n  ]\n}"
            }
          },
          "metadata": {},
          "execution_count": 20
        }
      ]
    },
    {
      "cell_type": "markdown",
      "source": [
        "To create count tables for the results of the smallpox data, showing the counts of outcomes for each category of inoculation, we can use the pandas library in Python to generate a contingency table."
      ],
      "metadata": {
        "id": "37j62ZXW-ihD"
      }
    },
    {
      "cell_type": "code",
      "source": [
        "# Create a contingency table with row and column totals\n",
        "count_table_totals = pd.crosstab(index=spx_data['inoculated'], columns=spx_data['result'], margins=True, margins_name=\"Total\")\n",
        "\n",
        "# Display the contingency table with totals\n",
        "print(\"Count Table with Totals:\")\n",
        "print(count_table_totals)"
      ],
      "metadata": {
        "colab": {
          "base_uri": "https://localhost:8080/"
        },
        "id": "6-pYSkui9tl6",
        "outputId": "5e9863b2-91db-4da8-85a4-ec8e5307708a"
      },
      "execution_count": null,
      "outputs": [
        {
          "output_type": "stream",
          "name": "stdout",
          "text": [
            "Count Table with Totals:\n",
            "result      died  lived  Total\n",
            "inoculated                    \n",
            "no           844   5136   5980\n",
            "yes            6    238    244\n",
            "Total        850   5374   6224\n"
          ]
        }
      ]
    },
    {
      "cell_type": "markdown",
      "source": [
        "To create a probability table with totals based on the count tables for the smallpox data, we will need to compute the probabilities by dividing each count by the total number of cases. We will also include the totals for each category and the overall total."
      ],
      "metadata": {
        "id": "tSn5sbwO-cn8"
      }
    },
    {
      "cell_type": "code",
      "source": [
        "# Create a count table with row and column totals\n",
        "count_table_totals = pd.crosstab(index=spx_data['inoculated'], columns=spx_data['result'], margins=True, margins_name=\"Total\")\n",
        "\n",
        "# Calculate the total number of cases from the count table\n",
        "total_cases = count_table_totals.at[\"Total\", \"Total\"]\n",
        "\n",
        "# Convert count table to proportion table\n",
        "proportion_table_totals = count_table_totals / total_cases\n",
        "\n",
        "# Display the proportion table with totals\n",
        "print(\"Proportion Table with Totals:\")\n",
        "print(proportion_table_totals)"
      ],
      "metadata": {
        "colab": {
          "base_uri": "https://localhost:8080/"
        },
        "id": "ICiEMltr8yJP",
        "outputId": "e37baa96-c3ed-4458-ca7e-7832812ea1db"
      },
      "execution_count": null,
      "outputs": [
        {
          "output_type": "stream",
          "name": "stdout",
          "text": [
            "Proportion Table with Totals:\n",
            "result          died     lived     Total\n",
            "inoculated                              \n",
            "no          0.135604  0.825193  0.960797\n",
            "yes         0.000964  0.038239  0.039203\n",
            "Total       0.136568  0.863432  1.000000\n"
          ]
        }
      ]
    },
    {
      "cell_type": "markdown",
      "source": [
        "#### **EXAMPLE: PASSING THE TEST**\n",
        "\n",
        "Consider the midterm and final for a statistics class. Suppose 13% of students earned an A on the midterm. Of those students who earned an A on the midterm, 47% received an A on the final, and 11% of the students who earned lower than an A on the midterm received an A on the final. You randomly pick up a final exam and notice the student received an A. What is the probability that this student earned an A on the midterm?"
      ],
      "metadata": {
        "id": "JcxI4UrUIG11"
      }
    },
    {
      "cell_type": "markdown",
      "source": [
        "### Problem Setup and Bayes' Theorem Application\n",
        "\n",
        "We are given the following probabilities:\n",
        "- $ P(A) $: Probability of getting an A on the midterm = 13% = 0.13.\n",
        "- $ P(B | A) $: Probability of getting an A on the final given an A on the midterm = 47% = 0.47.\n",
        "- $ P(B | A^c) $: Probability of getting an A on the final given NOT an A on the midterm = 11% = 0.11.\n",
        "- $ P(A^c) $: Probability of NOT getting an A on the midterm = $1 -  P(A) = 0.87.$\n",
        "\n",
        "\n"
      ],
      "metadata": {
        "id": "7Q1_5wJrIUSG"
      }
    },
    {
      "cell_type": "code",
      "source": [
        "import matplotlib.pyplot as plt\n",
        "\n",
        "# Define the figure and axis\n",
        "fig, ax = plt.subplots(figsize=(12, 8))\n",
        "\n",
        "# Points for midterm outcomes\n",
        "ax.text(0.5, 0.9, 'Midterm', ha='center', va='center', fontsize=12, bbox=dict(boxstyle=\"round,pad=0.3\", edgecolor='black', facecolor='lightblue'))\n",
        "ax.text(0.2, 0.6, 'A (13%)', ha='center', va='center', fontsize=11, bbox=dict(boxstyle=\"round,pad=0.3\", edgecolor='black', facecolor='lightgreen'))\n",
        "ax.text(0.8, 0.6, 'Not A (87%)', ha='center', va='center', fontsize=11, bbox=dict(boxstyle=\"round,pad=0.3\", edgecolor='black', facecolor='salmon'))\n",
        "\n",
        "# Points for final outcomes based on midterm A\n",
        "ax.text(0.1, 0.3, 'A on Final\\n(47% of 13%)', ha='center', va='center', fontsize=10, bbox=dict(boxstyle=\"round,pad=0.3\", edgecolor='black', facecolor='lightgreen'))\n",
        "ax.text(0.3, 0.3, 'Not A on Final\\n(53% of 13%)', ha='center', va='center', fontsize=10, bbox=dict(boxstyle=\"round,pad=0.3\", edgecolor='black', facecolor='salmon'))\n",
        "\n",
        "# Points for final outcomes based on midterm Not A\n",
        "ax.text(0.7, 0.3, 'A on Final\\n(11% of 87%)', ha='center', va='center', fontsize=10, bbox=dict(boxstyle=\"round,pad=0.3\", edgecolor='black', facecolor='lightgreen'))\n",
        "ax.text(0.9, 0.3, 'Not A on Final\\n(89% of 87%)', ha='center', va='center', fontsize=10, bbox=dict(boxstyle=\"round,pad=0.3\", edgecolor='black', facecolor='salmon'))\n",
        "\n",
        "# Drawing lines\n",
        "ax.plot([0.5, 0.2], [0.85, 0.65], 'black')\n",
        "ax.plot([0.5, 0.8], [0.85, 0.65], 'black')\n",
        "ax.plot([0.2, 0.1], [0.55, 0.35], 'black')\n",
        "ax.plot([0.2, 0.3], [0.55, 0.35], 'black')\n",
        "ax.plot([0.8, 0.7], [0.55, 0.35], 'black')\n",
        "ax.plot([0.8, 0.9], [0.55, 0.35], 'black')\n",
        "\n",
        "# Hide axes\n",
        "ax.set_xlim(0, 1)\n",
        "ax.set_ylim(0, 1)\n",
        "ax.axis('off')\n",
        "\n",
        "plt.show()\n"
      ],
      "metadata": {
        "colab": {
          "base_uri": "https://localhost:8080/",
          "height": 653
        },
        "id": "iC9kI2J0YNXc",
        "outputId": "d8bfd294-84ce-4630-ee3a-a2060fca054a"
      },
      "execution_count": null,
      "outputs": [
        {
          "output_type": "display_data",
          "data": {
            "text/plain": [
              "<Figure size 1200x800 with 1 Axes>"
            ],
            "image/png": "[encoded data removed]"
          },
          "metadata": {}
        }
      ]
    },
    {
      "cell_type": "code",
      "source": [
        "import matplotlib.pyplot as plt\n",
        "import seaborn as sns\n",
        "\n",
        "# Calculate probabilities\n",
        "P_A = 0.13\n",
        "P_B_given_A = 0.47\n",
        "P_B_given_not_A = 0.11\n",
        "P_not_A = 1 - P_A\n",
        "P_B = (P_B_given_A * P_A) + (P_B_given_not_A * P_not_A)\n",
        "P_A_given_B = (P_B_given_A * P_A) / P_B\n",
        "\n",
        "# Print probability\n",
        "print(f\"Probability that the student earned an A on the midterm, given they got an A on the final: {P_A_given_B:.4f}\")\n",
        "\n"
      ],
      "metadata": {
        "colab": {
          "base_uri": "https://localhost:8080/"
        },
        "id": "P_miWhpl-Ku4",
        "outputId": "be0b1bc2-908a-4889-c41a-af2f10b42c82"
      },
      "execution_count": null,
      "outputs": [
        {
          "output_type": "stream",
          "name": "stdout",
          "text": [
            "Probability that the student earned an A on the midterm, given they got an A on the final: 0.3897\n"
          ]
        }
      ]
    },
    {
      "cell_type": "markdown",
      "source": [
        "We use Bayes' Theorem to find $P(A | B) $, the probability of having an A on the midterm given an A on the final:\n",
        "\n",
        "$ P(B) = P(B | A) \\times P(A) + P(B | A^c) \\times P(A^c) $\n",
        "\n",
        "$ P(B) = (0.47 \\times 0.13) + (0.11 \\times 0.87) $\n",
        "\n",
        "$ P(B) = 0.0611 + 0.0957 = 0.1568 $\n",
        "\n",
        "$ P(A | B) = \\frac{P(B | A) \\times P(A)}{P(B)} = \\frac{0.0611}{0.1568} \\approx 0.3898 $\n",
        "\n",
        "This calculates to approximately $38.98%$, indicating the probability that a student got an A on the midterm if they got an A on the final."
      ],
      "metadata": {
        "id": "L3xfX87XI0fa"
      }
    },
    {
      "cell_type": "markdown",
      "source": [
        "## **BAYES THEOREM**\n",
        "\n",
        "### EXAMPLE: BREAST CANSER\n",
        "\n",
        "In Canada, about 0.35% of women over 40 will develop breast cancer in any given year. A common screening test for cancer is the mammogram, but this test is not perfect. In about 11% of patients with breast cancer, the test gives a false negative: it indicates a woman does not have breast cancer when she does have breast cancer. Similarly, the test gives a false positive in 7% of patients who do not have breast cancer: it indicates these patients have breast cancer when they actually do not. If we tested a random woman over 40 for breast cancer using a mammogram and the test came back positive – that is, the test suggested the patient has cancer – what is the probability that the patient actually has breast cancer?"
      ],
      "metadata": {
        "id": "L6bGQYY4Z9BK"
      }
    },
    {
      "cell_type": "code",
      "source": [
        "import matplotlib.pyplot as plt\n",
        "\n",
        "# Define the figure and axis\n",
        "fig, ax = plt.subplots(figsize=(12, 8))\n",
        "\n",
        "# Points for overall screening outcomes\n",
        "ax.text(0.5, 0.9, 'Screening', ha='center', va='center', fontsize=12, bbox=dict(boxstyle=\"round,pad=0.3\", edgecolor='black', facecolor='lightblue'))\n",
        "ax.text(0.2, 0.6, 'Cancer (0.35%)', ha='center', va='center', fontsize=11, bbox=dict(boxstyle=\"round,pad=0.3\", edgecolor='black', facecolor='lightgreen'))\n",
        "ax.text(0.8, 0.6, 'No Cancer (99.65%)', ha='center', va='center', fontsize=11, bbox=dict(boxstyle=\"round,pad=0.3\", edgecolor='black', facecolor='salmon'))\n",
        "\n",
        "# Points for mammogram outcomes based on cancer presence\n",
        "ax.text(0.1, 0.3, 'Positive\\n(89%)', ha='center', va='center', fontsize=10, bbox=dict(boxstyle=\"round,pad=0.3\", edgecolor='black', facecolor='lightgreen'))\n",
        "ax.text(0.3, 0.3, 'Negative\\n(11%)', ha='center', va='center', fontsize=10, bbox=dict(boxstyle=\"round,pad=0.3\", edgecolor='black', facecolor='salmon'))\n",
        "\n",
        "# Points for mammogram outcomes based on no cancer\n",
        "ax.text(0.7, 0.3, 'Positive\\n(7%)', ha='center', va='center', fontsize=10, bbox=dict(boxstyle=\"round,pad=0.3\", edgecolor='black', facecolor='lightgreen'))\n",
        "ax.text(0.9, 0.3, 'Negative\\n(93%)', ha='center', va='center', fontsize=10, bbox=dict(boxstyle=\"round,pad=0.3\", edgecolor='black', facecolor='salmon'))\n",
        "\n",
        "# Drawing lines to connect nodes\n",
        "ax.plot([0.5, 0.2], [0.85, 0.65], 'black')  # Line from Screening to Cancer\n",
        "ax.plot([0.5, 0.8], [0.85, 0.65], 'black')  # Line from Screening to No Cancer\n",
        "ax.plot([0.2, 0.1], [0.55, 0.35], 'black')  # Line from Cancer to Positive\n",
        "ax.plot([0.2, 0.3], [0.55, 0.35], 'black')  # Line from Cancer to Negative\n",
        "ax.plot([0.8, 0.7], [0.55, 0.35], 'black')  # Line from No Cancer to Positive\n",
        "ax.plot([0.8, 0.9], [0.55, 0.35], 'black')  # Line from No Cancer to Negative\n",
        "\n",
        "# Hide axes\n",
        "ax.set_xlim(0, 1)\n",
        "ax.set_ylim(0, 1)\n",
        "ax.axis('off')  # Turn off the axis\n",
        "\n",
        "plt.title(\"Tree Diagram of Mammogram Screening Outcomes\")\n",
        "plt.show()\n"
      ],
      "metadata": {
        "colab": {
          "base_uri": "https://localhost:8080/",
          "height": 675
        },
        "id": "vupAspy7Mkmb",
        "outputId": "87cc9376-f752-4d9c-9055-ba84729cff0a"
      },
      "execution_count": null,
      "outputs": [
        {
          "output_type": "display_data",
          "data": {
            "text/plain": [
              "<Figure size 1200x800 with 1 Axes>"
            ],
            "image/png": "[encoded data removed]"
          },
          "metadata": {}
        }
      ]
    },
    {
      "cell_type": "markdown",
      "source": [
        "\n",
        "\n",
        "Bayes' Theorem allows us to update our probability estimates based on new evidence. In this scenario, we are dealing with the following events:\n",
        "- $A$: the woman has breast cancer.\n",
        "- $B$: the mammogram test is positive.\n",
        "\n",
        "Given probabilities:\n",
        "- $P(A)$ = Probability of having breast cancer = 0.35% = 0.0035.\n",
        "- $P(B | A)$ = Probability of a positive test given having breast cancer = 89% = 0.89 (100% - 11% false negative rate).\n",
        "- $P(B | A^c)$ = Probability of a positive test given not having breast cancer = 7% = 0.07 (false positive rate).\n",
        "\n",
        "We need to calculate $P(B)$, the total probability of a positive test:\n",
        "$$P(B) = P(B | A) \\times P(A) + P(B | A^c) \\times P(A^c)$$\n",
        "\n",
        "Then, we apply Bayes' Theorem to find $P(A | B)$:\n",
        "$$P(A | B) = \\frac{P(B | A) \\times P(A)}{P(B)}$$\n",
        "\n",
        "This will give us the probability that the patient actually has breast cancer given a positive test result.\n"
      ],
      "metadata": {
        "id": "Vt_b0LkbJMOn"
      }
    },
    {
      "cell_type": "code",
      "source": [
        "# Importing the required library\n",
        "import numpy as np\n",
        "\n",
        "# Given probabilities\n",
        "P_A = 0.0035  # Probability of having breast cancer\n",
        "P_B_given_A = 0.89  # Probability of a positive test given having breast cancer\n",
        "P_B_given_not_A = 0.07  # Probability of a positive test given not having breast cancer\n",
        "\n",
        "# Calculating P(A^c)\n",
        "P_not_A = 1 - P_A\n",
        "\n",
        "# Calculating P(B)\n",
        "P_B = P_B_given_A * P_A + P_B_given_not_A * P_not_A\n",
        "\n",
        "# Applying Bayes' Theorem to find P(A | B)\n",
        "P_A_given_B = (P_B_given_A * P_A) / P_B\n",
        "\n",
        "# Printing the results\n",
        "print(f\"Total probability of a positive test (P(B)): {P_B:.4f}\")\n",
        "print(f\"Probability of having breast cancer given a positive test (P(A | B)): {P_A_given_B:.4f}\")\n"
      ],
      "metadata": {
        "colab": {
          "base_uri": "https://localhost:8080/"
        },
        "id": "587DItaxI065",
        "outputId": "602fb85e-aba6-4f51-8dda-09467e5f1f4f"
      },
      "execution_count": null,
      "outputs": [
        {
          "output_type": "stream",
          "name": "stdout",
          "text": [
            "Total probability of a positive test (P(B)): 0.0729\n",
            "Probability of having breast cancer given a positive test (P(A | B)): 0.0427\n"
          ]
        }
      ]
    },
    {
      "cell_type": "code",
      "source": [],
      "metadata": {
        "id": "RdK32vj8Ztbu"
      },
      "execution_count": null,
      "outputs": []
    }
  ]
}