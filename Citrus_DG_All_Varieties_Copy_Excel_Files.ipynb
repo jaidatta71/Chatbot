{
  "nbformat": 4,
  "nbformat_minor": 0,
  "metadata": {
    "colab": {
      "provenance": [],
      "authorship_tag": "ABX9TyP/tk/7s8GcuBlADtw7YyLJ",
      "include_colab_link": true
    },
    "kernelspec": {
      "name": "python3",
      "display_name": "Python 3"
    },
    "language_info": {
      "name": "python"
    }
  },
  "cells": [
    {
      "cell_type": "markdown",
      "metadata": {
        "id": "view-in-github",
        "colab_type": "text"
      },
      "source": [
        "<a href=\"https://colab.research.google.com/github/jaidatta71/Chatbot/blob/main/Citrus_DG_All_Varieties_Copy_Excel_Files.ipynb\" target=\"_parent\"><img src=\"https://colab.research.google.com/assets/colab-badge.svg\" alt=\"Open In Colab\"/></a>"
      ]
    },
    {
      "cell_type": "code",
      "execution_count": null,
      "metadata": {
        "id": "Mppei77MCaCS"
      },
      "outputs": [],
      "source": [
        "#  Copy contents of source file [CIT DG Sales_Forecast_All_varieties] to destination file [Downloaded from Oracle DM. CIT DG All Varieties Sales Forecast by Pack Code_Label_Customer]\n",
        "#  Create ProductId as concatenation of Variety, Pcak Code, Label in BOTH source and destination files\n",
        "#  Run below python program\n",
        "#  Download the new file and delete productid before uploading to oracle DM\n",
        "\n",
        "import pandas as pd\n",
        "from openpyxl import load_workbook\n",
        "# Load source data\n",
        "source_df = pd.read_excel('drive/MyDrive/CIT DG Sales_Forecast_All_varieties.xlsx')\n",
        "target_df = pd.read_excel('drive/MyDrive/CIT DG All Varieties Sales Forecast by Pack Code_Label_Customer.xlsx')\n",
        "\n",
        "# Set ProductID as index for easy row matching\n",
        "source_df.set_index('ProductID', inplace=True)\n",
        "target_df.set_index('ProductID', inplace=True)\n",
        "\n",
        "# Columns you want to update\n",
        "columns_to_update = ['4/28/25','5/5/25','5/12/25','5/19/25','5/26/25','6/2/25','6/9/25','6/16/25','6/23/25','6/30/25','7/7/25','7/14/25','7/21/25','7/28/25','8/4/25','8/11/25','8/18/25','8/25/25','9/1/25','9/8/25','9/15/25','9/22/25','9/29/25','10/6/25','10/13/25','10/20/25','10/27/25','11/3/25','11/10/25','11/17/25','11/24/25','12/1/25','12/8/25']\n",
        "\n",
        "# Load workbook and select the sheet\n",
        "wb = load_workbook('drive/MyDrive/CIT DG All Varieties Sales Forecast by Pack Code_Label_Customer.xlsx')\n",
        "sheet = wb['Exported']  # Change to your actual sheet name\n",
        "\n",
        "# Get the header row from the sheet\n",
        "header = [cell.value for cell in sheet[1]]\n",
        "column_map = {col: idx + 1 for idx, col in enumerate(header)}  # Excel columns are 1-indexed\n",
        "\n",
        "print(column_map)\n",
        "\n",
        "# Iterate through matching ProductIDs and update the target sheet\n",
        "for product_id in source_df.index:\n",
        "    if product_id in target_df.index:\n",
        "        excel_row_number = target_df.index.get_loc(product_id) + 2  # +2 = header row + 1-indexed\n",
        "        for col in columns_to_update:\n",
        "            if col in column_map:\n",
        "                excel_col_number = column_map[col]\n",
        "                new_value = source_df.at[product_id, col]\n",
        "             #   print(product_id)\n",
        "                sheet.cell(row=excel_row_number, column=excel_col_number, value=new_value)\n",
        "\n",
        "# Save to a new file\n",
        "wb.save('drive/MyDrive/CIT DG All Varieties Sales Forecast by Pack Code_Label_Customer_22.xlsx')"
      ]
    }
  ]
}